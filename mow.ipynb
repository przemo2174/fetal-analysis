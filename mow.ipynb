{
 "cells": [
  {
   "cell_type": "code",
   "execution_count": 5,
   "metadata": {
    "scrolled": true
   },
   "outputs": [],
   "source": [
    "import pandas as pd\n",
    "import numpy as np\n",
    "import matplotlib.pyplot as plt\n",
    "import random\n",
    "data = pd.read_csv(\"data.csv\", sep=';')\n",
    "columns = data.columns\n",
    "for columnName in columns:\n",
    "    for index in range(len(data)):\n",
    "        if random.random()<=.1:\n",
    "            data.at[index, columnName] = None\n",
    "    # uzupelnienie\n",
    "    if(data[columnName].dtype == 'float64'):\n",
    "        data[columnName].fillna(data[columnName].median(skipna=True), inplace=True)\n",
    "    else:\n",
    "        data[columnName].fillna(data[columnName].mode()[0], inplace=True)"
   ]
  },
  {
   "cell_type": "code",
   "execution_count": 6,
   "metadata": {
    "scrolled": true
   },
   "outputs": [
    {
     "data": {
      "text/html": [
       "<div>\n",
       "<style scoped>\n",
       "    .dataframe tbody tr th:only-of-type {\n",
       "        vertical-align: middle;\n",
       "    }\n",
       "\n",
       "    .dataframe tbody tr th {\n",
       "        vertical-align: top;\n",
       "    }\n",
       "\n",
       "    .dataframe thead th {\n",
       "        text-align: right;\n",
       "    }\n",
       "</style>\n",
       "<table border=\"1\" class=\"dataframe\">\n",
       "  <thead>\n",
       "    <tr style=\"text-align: right;\">\n",
       "      <th></th>\n",
       "      <th>baseline value,accelerations,fetal_movement,uterine_contractions,light_decelerations,severe_decelerations,prolongued_decelerations,abnormal_short_term_variability,mean_value_of_short_term_variability,percentage_of_time_with_abnormal_long_term_variability,mean_value_of_long_term_variability,histogram_width,histogram_min,histogram_max,histogram_number_of_peaks,histogram_number_of_zeroes,histogram_mode,histogram_mean,histogram_median,histogram_variance,histogram_tendency,fetal_health</th>\n",
       "    </tr>\n",
       "  </thead>\n",
       "  <tbody>\n",
       "    <tr>\n",
       "      <th>0</th>\n",
       "      <td>120.0,0.0,0.0,0.0,0.0,0.0,0.0,73.0,0.5,43.0,2....</td>\n",
       "    </tr>\n",
       "    <tr>\n",
       "      <th>1</th>\n",
       "      <td>132.0,0.006,0.0,0.006,0.003,0.0,0.0,17.0,2.1,0...</td>\n",
       "    </tr>\n",
       "    <tr>\n",
       "      <th>2</th>\n",
       "      <td>133.0,0.003,0.0,0.008,0.003,0.0,0.0,16.0,2.1,0...</td>\n",
       "    </tr>\n",
       "    <tr>\n",
       "      <th>3</th>\n",
       "      <td>134.0,0.003,0.0,0.008,0.003,0.0,0.0,16.0,2.4,0...</td>\n",
       "    </tr>\n",
       "    <tr>\n",
       "      <th>4</th>\n",
       "      <td>132.0,0.007,0.0,0.008,0.0,0.0,0.0,16.0,2.4,0.0...</td>\n",
       "    </tr>\n",
       "  </tbody>\n",
       "</table>\n",
       "</div>"
      ],
      "text/plain": [
       "  baseline value,accelerations,fetal_movement,uterine_contractions,light_decelerations,severe_decelerations,prolongued_decelerations,abnormal_short_term_variability,mean_value_of_short_term_variability,percentage_of_time_with_abnormal_long_term_variability,mean_value_of_long_term_variability,histogram_width,histogram_min,histogram_max,histogram_number_of_peaks,histogram_number_of_zeroes,histogram_mode,histogram_mean,histogram_median,histogram_variance,histogram_tendency,fetal_health\n",
       "0  120.0,0.0,0.0,0.0,0.0,0.0,0.0,73.0,0.5,43.0,2....                                                                                                                                                                                                                                                                                                                                                                                                                                                   \n",
       "1  132.0,0.006,0.0,0.006,0.003,0.0,0.0,17.0,2.1,0...                                                                                                                                                                                                                                                                                                                                                                                                                                                   \n",
       "2  133.0,0.003,0.0,0.008,0.003,0.0,0.0,16.0,2.1,0...                                                                                                                                                                                                                                                                                                                                                                                                                                                   \n",
       "3  134.0,0.003,0.0,0.008,0.003,0.0,0.0,16.0,2.4,0...                                                                                                                                                                                                                                                                                                                                                                                                                                                   \n",
       "4  132.0,0.007,0.0,0.008,0.0,0.0,0.0,16.0,2.4,0.0...                                                                                                                                                                                                                                                                                                                                                                                                                                                   "
      ]
     },
     "execution_count": 6,
     "metadata": {},
     "output_type": "execute_result"
    }
   ],
   "source": [
    "data.head()"
   ]
  },
  {
   "cell_type": "code",
   "execution_count": 9,
   "metadata": {
    "scrolled": true
   },
   "outputs": [
    {
     "name": "stdout",
     "output_type": "stream",
     "text": [
      "     baseline value,accelerations,fetal_movement,uterine_contractions,light_decelerations,severe_decelerations,prolongued_decelerations,abnormal_short_term_variability,mean_value_of_short_term_variability,percentage_of_time_with_abnormal_long_term_variability,mean_value_of_long_term_variability,histogram_width,histogram_min,histogram_max,histogram_number_of_peaks,histogram_number_of_zeroes,histogram_mode,histogram_mean,histogram_median,histogram_variance,histogram_tendency,fetal_health\n",
      "0     120.0,0.0,0.0,0.0,0.0,0.0,0.0,73.0,0.5,43.0,2....                                                                                                                                                                                                                                                                                                                                                                                                                                                   \n",
      "1     132.0,0.006,0.0,0.006,0.003,0.0,0.0,17.0,2.1,0...                                                                                                                                                                                                                                                                                                                                                                                                                                                   \n",
      "2     133.0,0.003,0.0,0.008,0.003,0.0,0.0,16.0,2.1,0...                                                                                                                                                                                                                                                                                                                                                                                                                                                   \n",
      "3     134.0,0.003,0.0,0.008,0.003,0.0,0.0,16.0,2.4,0...                                                                                                                                                                                                                                                                                                                                                                                                                                                   \n",
      "4     132.0,0.007,0.0,0.008,0.0,0.0,0.0,16.0,2.4,0.0...                                                                                                                                                                                                                                                                                                                                                                                                                                                   \n",
      "...                                                 ...                                                                                                                                                                                                                                                                                                                                                                                                                                                   \n",
      "2121  140.0,0.0,0.0,0.007,0.0,0.0,0.0,79.0,0.2,25.0,...                                                                                                                                                                                                                                                                                                                                                                                                                                                   \n",
      "2122  140.0,0.001,0.0,0.007,0.0,0.0,0.0,78.0,0.4,22....                                                                                                                                                                                                                                                                                                                                                                                                                                                   \n",
      "2123  140.0,0.001,0.0,0.007,0.0,0.0,0.0,79.0,0.4,20....                                                                                                                                                                                                                                                                                                                                                                                                                                                   \n",
      "2124  140.0,0.001,0.0,0.006,0.0,0.0,0.0,78.0,0.4,27....                                                                                                                                                                                                                                                                                                                                                                                                                                                   \n",
      "2125  142.0,0.002,0.002,0.008,0.0,0.0,0.0,74.0,0.4,3...                                                                                                                                                                                                                                                                                                                                                                                                                                                   \n",
      "\n",
      "[2126 rows x 1 columns]\n"
     ]
    },
    {
     "ename": "KeyError",
     "evalue": "'fetal_health'",
     "output_type": "error",
     "traceback": [
      "\u001b[0;31m---------------------------------------------------------------------------\u001b[0m",
      "\u001b[0;31mKeyError\u001b[0m                                  Traceback (most recent call last)",
      "\u001b[0;32m/Library/Frameworks/Python.framework/Versions/3.7/lib/python3.7/site-packages/pandas/core/indexes/base.py\u001b[0m in \u001b[0;36mget_loc\u001b[0;34m(self, key, method, tolerance)\u001b[0m\n\u001b[1;32m   3360\u001b[0m             \u001b[0;32mtry\u001b[0m\u001b[0;34m:\u001b[0m\u001b[0;34m\u001b[0m\u001b[0;34m\u001b[0m\u001b[0m\n\u001b[0;32m-> 3361\u001b[0;31m                 \u001b[0;32mreturn\u001b[0m \u001b[0mself\u001b[0m\u001b[0;34m.\u001b[0m\u001b[0m_engine\u001b[0m\u001b[0;34m.\u001b[0m\u001b[0mget_loc\u001b[0m\u001b[0;34m(\u001b[0m\u001b[0mcasted_key\u001b[0m\u001b[0;34m)\u001b[0m\u001b[0;34m\u001b[0m\u001b[0;34m\u001b[0m\u001b[0m\n\u001b[0m\u001b[1;32m   3362\u001b[0m             \u001b[0;32mexcept\u001b[0m \u001b[0mKeyError\u001b[0m \u001b[0;32mas\u001b[0m \u001b[0merr\u001b[0m\u001b[0;34m:\u001b[0m\u001b[0;34m\u001b[0m\u001b[0;34m\u001b[0m\u001b[0m\n",
      "\u001b[0;32m/Library/Frameworks/Python.framework/Versions/3.7/lib/python3.7/site-packages/pandas/_libs/index.pyx\u001b[0m in \u001b[0;36mpandas._libs.index.IndexEngine.get_loc\u001b[0;34m()\u001b[0m\n",
      "\u001b[0;32m/Library/Frameworks/Python.framework/Versions/3.7/lib/python3.7/site-packages/pandas/_libs/index.pyx\u001b[0m in \u001b[0;36mpandas._libs.index.IndexEngine.get_loc\u001b[0;34m()\u001b[0m\n",
      "\u001b[0;32mpandas/_libs/hashtable_class_helper.pxi\u001b[0m in \u001b[0;36mpandas._libs.hashtable.PyObjectHashTable.get_item\u001b[0;34m()\u001b[0m\n",
      "\u001b[0;32mpandas/_libs/hashtable_class_helper.pxi\u001b[0m in \u001b[0;36mpandas._libs.hashtable.PyObjectHashTable.get_item\u001b[0;34m()\u001b[0m\n",
      "\u001b[0;31mKeyError\u001b[0m: 'fetal_health'",
      "\nThe above exception was the direct cause of the following exception:\n",
      "\u001b[0;31mKeyError\u001b[0m                                  Traceback (most recent call last)",
      "\u001b[0;32m/var/folders/hn/ynnnsj_x25d6445spvfks5xw0000gn/T/ipykernel_2800/2071818731.py\u001b[0m in \u001b[0;36m<module>\u001b[0;34m\u001b[0m\n\u001b[1;32m      1\u001b[0m \u001b[0mprint\u001b[0m\u001b[0;34m(\u001b[0m\u001b[0mdata\u001b[0m\u001b[0;34m)\u001b[0m\u001b[0;34m\u001b[0m\u001b[0;34m\u001b[0m\u001b[0m\n\u001b[0;32m----> 2\u001b[0;31m \u001b[0mplt\u001b[0m\u001b[0;34m.\u001b[0m\u001b[0mhist\u001b[0m\u001b[0;34m(\u001b[0m\u001b[0mdata\u001b[0m\u001b[0;34m[\u001b[0m\u001b[0;34m'fetal_health'\u001b[0m\u001b[0;34m]\u001b[0m\u001b[0;34m)\u001b[0m\u001b[0;34m\u001b[0m\u001b[0;34m\u001b[0m\u001b[0m\n\u001b[0m\u001b[1;32m      3\u001b[0m \u001b[0mplt\u001b[0m\u001b[0;34m.\u001b[0m\u001b[0mtitle\u001b[0m\u001b[0;34m(\u001b[0m\u001b[0;34m\"Histogram zdrowi płodów\"\u001b[0m\u001b[0;34m)\u001b[0m\u001b[0;34m\u001b[0m\u001b[0;34m\u001b[0m\u001b[0m\n",
      "\u001b[0;32m/Library/Frameworks/Python.framework/Versions/3.7/lib/python3.7/site-packages/pandas/core/frame.py\u001b[0m in \u001b[0;36m__getitem__\u001b[0;34m(self, key)\u001b[0m\n\u001b[1;32m   3456\u001b[0m             \u001b[0;32mif\u001b[0m \u001b[0mself\u001b[0m\u001b[0;34m.\u001b[0m\u001b[0mcolumns\u001b[0m\u001b[0;34m.\u001b[0m\u001b[0mnlevels\u001b[0m \u001b[0;34m>\u001b[0m \u001b[0;36m1\u001b[0m\u001b[0;34m:\u001b[0m\u001b[0;34m\u001b[0m\u001b[0;34m\u001b[0m\u001b[0m\n\u001b[1;32m   3457\u001b[0m                 \u001b[0;32mreturn\u001b[0m \u001b[0mself\u001b[0m\u001b[0;34m.\u001b[0m\u001b[0m_getitem_multilevel\u001b[0m\u001b[0;34m(\u001b[0m\u001b[0mkey\u001b[0m\u001b[0;34m)\u001b[0m\u001b[0;34m\u001b[0m\u001b[0;34m\u001b[0m\u001b[0m\n\u001b[0;32m-> 3458\u001b[0;31m             \u001b[0mindexer\u001b[0m \u001b[0;34m=\u001b[0m \u001b[0mself\u001b[0m\u001b[0;34m.\u001b[0m\u001b[0mcolumns\u001b[0m\u001b[0;34m.\u001b[0m\u001b[0mget_loc\u001b[0m\u001b[0;34m(\u001b[0m\u001b[0mkey\u001b[0m\u001b[0;34m)\u001b[0m\u001b[0;34m\u001b[0m\u001b[0;34m\u001b[0m\u001b[0m\n\u001b[0m\u001b[1;32m   3459\u001b[0m             \u001b[0;32mif\u001b[0m \u001b[0mis_integer\u001b[0m\u001b[0;34m(\u001b[0m\u001b[0mindexer\u001b[0m\u001b[0;34m)\u001b[0m\u001b[0;34m:\u001b[0m\u001b[0;34m\u001b[0m\u001b[0;34m\u001b[0m\u001b[0m\n\u001b[1;32m   3460\u001b[0m                 \u001b[0mindexer\u001b[0m \u001b[0;34m=\u001b[0m \u001b[0;34m[\u001b[0m\u001b[0mindexer\u001b[0m\u001b[0;34m]\u001b[0m\u001b[0;34m\u001b[0m\u001b[0;34m\u001b[0m\u001b[0m\n",
      "\u001b[0;32m/Library/Frameworks/Python.framework/Versions/3.7/lib/python3.7/site-packages/pandas/core/indexes/base.py\u001b[0m in \u001b[0;36mget_loc\u001b[0;34m(self, key, method, tolerance)\u001b[0m\n\u001b[1;32m   3361\u001b[0m                 \u001b[0;32mreturn\u001b[0m \u001b[0mself\u001b[0m\u001b[0;34m.\u001b[0m\u001b[0m_engine\u001b[0m\u001b[0;34m.\u001b[0m\u001b[0mget_loc\u001b[0m\u001b[0;34m(\u001b[0m\u001b[0mcasted_key\u001b[0m\u001b[0;34m)\u001b[0m\u001b[0;34m\u001b[0m\u001b[0;34m\u001b[0m\u001b[0m\n\u001b[1;32m   3362\u001b[0m             \u001b[0;32mexcept\u001b[0m \u001b[0mKeyError\u001b[0m \u001b[0;32mas\u001b[0m \u001b[0merr\u001b[0m\u001b[0;34m:\u001b[0m\u001b[0;34m\u001b[0m\u001b[0;34m\u001b[0m\u001b[0m\n\u001b[0;32m-> 3363\u001b[0;31m                 \u001b[0;32mraise\u001b[0m \u001b[0mKeyError\u001b[0m\u001b[0;34m(\u001b[0m\u001b[0mkey\u001b[0m\u001b[0;34m)\u001b[0m \u001b[0;32mfrom\u001b[0m \u001b[0merr\u001b[0m\u001b[0;34m\u001b[0m\u001b[0;34m\u001b[0m\u001b[0m\n\u001b[0m\u001b[1;32m   3364\u001b[0m \u001b[0;34m\u001b[0m\u001b[0m\n\u001b[1;32m   3365\u001b[0m         \u001b[0;32mif\u001b[0m \u001b[0mis_scalar\u001b[0m\u001b[0;34m(\u001b[0m\u001b[0mkey\u001b[0m\u001b[0;34m)\u001b[0m \u001b[0;32mand\u001b[0m \u001b[0misna\u001b[0m\u001b[0;34m(\u001b[0m\u001b[0mkey\u001b[0m\u001b[0;34m)\u001b[0m \u001b[0;32mand\u001b[0m \u001b[0;32mnot\u001b[0m \u001b[0mself\u001b[0m\u001b[0;34m.\u001b[0m\u001b[0mhasnans\u001b[0m\u001b[0;34m:\u001b[0m\u001b[0;34m\u001b[0m\u001b[0;34m\u001b[0m\u001b[0m\n",
      "\u001b[0;31mKeyError\u001b[0m: 'fetal_health'"
     ]
    }
   ],
   "source": [
    "print(data)\n",
    "plt.hist(data['fetal_health'])\n",
    "plt.title(\"Histogram zdrowi płodów\")"
   ]
  },
  {
   "cell_type": "code",
   "execution_count": 4,
   "metadata": {},
   "outputs": [
    {
     "data": {
      "text/plain": [
       "0              La Liga\n",
       "1              La Liga\n",
       "2              La Liga\n",
       "3              La Liga\n",
       "4              Serie A\n",
       "             ...      \n",
       "2639    Premier League\n",
       "2640    Premier League\n",
       "2641    Premier League\n",
       "2642    Premier League\n",
       "2643    Premier League\n",
       "Name: league, Length: 2644, dtype: object"
      ]
     },
     "execution_count": 4,
     "metadata": {},
     "output_type": "execute_result"
    }
   ],
   "source": [
    "data['league']"
   ]
  },
  {
   "cell_type": "code",
   "execution_count": 5,
   "metadata": {
    "scrolled": true
   },
   "outputs": [
    {
     "data": {
      "text/plain": [
       "Text(0.5, 1.0, 'Histogram lig zawodników')"
      ]
     },
     "execution_count": 5,
     "metadata": {},
     "output_type": "execute_result"
    },
    {
     "data": {
      "image/png": "[encoded data removed]",
      "text/plain": [
       "<Figure size 432x288 with 1 Axes>"
      ]
     },
     "metadata": {
      "needs_background": "light"
     },
     "output_type": "display_data"
    }
   ],
   "source": [
    "plt.hist(data['league'])\n",
    "plt.title(\"Histogram lig zawodników\")"
   ]
  },
  {
   "cell_type": "code",
   "execution_count": 6,
   "metadata": {
    "scrolled": true
   },
   "outputs": [
    {
     "data": {
      "text/plain": [
       "<bound method NDFrame.describe of       Column1                 player nationality position     squad   age  \\\n",
       "0        21.0  Martin Aguirregabiria      es ESP       DF   AlavĂ©s  23.0   \n",
       "1       390.0           Oliver Burke      es ESP    MF,FW  Cagliari  22.0   \n",
       "2       430.0       VĂ­ctor Camarasa      es ESP       MF   AlavĂ©s  25.0   \n",
       "3      1360.0          RubĂ©n Duarte      es ESP       DF   AlavĂ©s  23.0   \n",
       "4       770.0            Rodrigo Ely      br BRA       DF   AlavĂ©s  25.0   \n",
       "...       ...                    ...         ...      ...       ...   ...   \n",
       "2639   1997.0         Daniel Podence      es ESP    FW,MF    Wolves  23.0   \n",
       "2640   2202.0          Romain SaĂŻss      es ESP       DF    Wolves  29.0   \n",
       "2641   2523.0          Adama TraorĂ©      es ESP    FW,MF    Wolves  23.0   \n",
       "2642   2567.0         JesĂşs Vallejo      es ESP       DF    Wolves  22.0   \n",
       "2643   2615.0         RĂşben Vinagre      es ESP       DF    Wolves  20.0   \n",
       "\n",
       "      birth_year       value  height                      position2  ...  \\\n",
       "0         1996.0   4000000.0   178.0          Defender - Right-Back  ...   \n",
       "1         1997.0   4000000.0   188.0         Forward - Right Winger  ...   \n",
       "2         1994.0   4000000.0   183.0  Midfielder - Central Midfield  ...   \n",
       "3         1995.0   4000000.0   172.0           Defender - Left-Back  ...   \n",
       "4         1993.0   1000000.0   188.0         Defender - Centre-Back  ...   \n",
       "...          ...         ...     ...                            ...  ...   \n",
       "2639      1995.0  12000000.0   165.0         Forward - Right Winger  ...   \n",
       "2640      1994.0   4000000.0   188.0         Defender - Centre-Back  ...   \n",
       "2641      1996.0  25000000.0   178.0         Defender - Centre-Back  ...   \n",
       "2642      1994.0   6000000.0   184.0         Defender - Centre-Back  ...   \n",
       "2643      1994.0   9000000.0   174.0           Defender - Left-Back  ...   \n",
       "\n",
       "     Pts/G    xG   xGA  xGDiff  xGDiff/90  Attendance   CL  WinCL  \\\n",
       "0     1.03  37.0  53.2   -16.2      -0.43      12,177  0.0    0.0   \n",
       "1     1.03  42.7  53.2   -16.2      -0.12      12,177  0.0    0.0   \n",
       "2     1.03  42.7  53.2   -16.2      -0.43      12,177  0.0    0.0   \n",
       "3     1.03  37.0  47.6   -16.2      -0.43      12,177  0.0    0.0   \n",
       "4     1.03  37.0  47.6   -16.2      -0.43      12,177  0.0    0.0   \n",
       "...    ...   ...   ...     ...        ...         ...  ...    ...   \n",
       "2639  1.55  47.1  34.8    12.3       0.32       24758  0.0    0.0   \n",
       "2640  1.55  47.1  34.8    12.3       0.32       24758  0.0    0.0   \n",
       "2641  1.55  47.1  34.8    12.3       0.32       24758  0.0    0.0   \n",
       "2642  1.55  47.1  34.8    -4.2       0.32       24758  0.0    0.0   \n",
       "2643  1.55  47.1  34.8    -4.2       0.32       24758  0.0    0.0   \n",
       "\n",
       "      CLBestScorer   Season  \n",
       "0              0.0  201920#  \n",
       "1              0.0  201920#  \n",
       "2              0.0  201920#  \n",
       "3              0.0  201920#  \n",
       "4              0.0  201920#  \n",
       "...            ...      ...  \n",
       "2639           0.0  201920#  \n",
       "2640           0.0  201920#  \n",
       "2641           0.0  201920#  \n",
       "2642           0.0  201920#  \n",
       "2643           0.0  201920#  \n",
       "\n",
       "[2644 rows x 400 columns]>"
      ]
     },
     "execution_count": 6,
     "metadata": {},
     "output_type": "execute_result"
    }
   ],
   "source": [
    "data.describe"
   ]
  },
  {
   "cell_type": "code",
   "execution_count": 7,
   "metadata": {
    "scrolled": true
   },
   "outputs": [
    {
     "data": {
      "text/plain": [
       "Text(0.5, 1.0, 'Histogram wzrostu zawodników')"
      ]
     },
     "execution_count": 7,
     "metadata": {},
     "output_type": "execute_result"
    },
    {
     "data": {
      "image/png": "[encoded data removed]",
      "text/plain": [
       "<Figure size 432x288 with 1 Axes>"
      ]
     },
     "metadata": {
      "needs_background": "light"
     },
     "output_type": "display_data"
    }
   ],
   "source": [
    "plt.hist(data['height'],20)\n",
    "plt.title(\"Histogram wzrostu zawodników\")"
   ]
  },
  {
   "cell_type": "code",
   "execution_count": 8,
   "metadata": {
    "scrolled": true
   },
   "outputs": [
    {
     "data": {
      "text/plain": [
       "Text(0.5, 1.0, 'Histogram ilości meczów w których zagrał zawodnik')"
      ]
     },
     "execution_count": 8,
     "metadata": {},
     "output_type": "execute_result"
    },
    {
     "data": {
      "image/png": "[encoded data removed]",
      "text/plain": [
       "<Figure size 432x288 with 1 Axes>"
      ]
     },
     "metadata": {
      "needs_background": "light"
     },
     "output_type": "display_data"
    }
   ],
   "source": [
    "plt.hist(data['games'],20)\n",
    "plt.title(\"Histogram ilości meczów w których zagrał zawodnik\")"
   ]
  },
  {
   "cell_type": "code",
   "execution_count": 9,
   "metadata": {
    "scrolled": true
   },
   "outputs": [
    {
     "data": {
      "text/plain": [
       "Text(0.5, 1.0, 'Histogram ilości minut które rozegrał zawodnik')"
      ]
     },
     "execution_count": 9,
     "metadata": {},
     "output_type": "execute_result"
    },
    {
     "data": {
      "image/png": "[encoded data removed]",
      "text/plain": [
       "<Figure size 432x288 with 1 Axes>"
      ]
     },
     "metadata": {
      "needs_background": "light"
     },
     "output_type": "display_data"
    }
   ],
   "source": [
    "plt.hist(data['minutes'],50)\n",
    "plt.title(\"Histogram ilości minut które rozegrał zawodnik\")"
   ]
  },
  {
   "cell_type": "code",
   "execution_count": 10,
   "metadata": {
    "scrolled": true
   },
   "outputs": [
    {
     "data": {
      "text/plain": [
       "Text(0.5, 1.0, 'Histogram średnia ilość bramek zdbytych w 90 minut')"
      ]
     },
     "execution_count": 10,
     "metadata": {},
     "output_type": "execute_result"
    },
    {
     "data": {
      "image/png": "[encoded data removed]",
      "text/plain": [
       "<Figure size 432x288 with 1 Axes>"
      ]
     },
     "metadata": {
      "needs_background": "light"
     },
     "output_type": "display_data"
    }
   ],
   "source": [
    "ga_p90 = data['goals_per90']\n",
    "plt.hist(ga_p90, 50, range=(0,1.5))\n",
    "plt.title(\"Histogram średnia ilość bramek zdbytych w 90 minut\")"
   ]
  },
  {
   "cell_type": "code",
   "execution_count": 11,
   "metadata": {
    "scrolled": true
   },
   "outputs": [
    {
     "data": {
      "text/plain": [
       "Text(0.5, 1.0, 'Histogram średnia ilość asyst zdbytych w 90 minut')"
      ]
     },
     "execution_count": 11,
     "metadata": {},
     "output_type": "execute_result"
    },
    {
     "data": {
      "image/png": "[encoded data removed]",
      "text/plain": [
       "<Figure size 432x288 with 1 Axes>"
      ]
     },
     "metadata": {
      "needs_background": "light"
     },
     "output_type": "display_data"
    }
   ],
   "source": [
    "ass_p90 = data['assists_per90']\n",
    "plt.hist(ass_p90, 50, range=(0,1.5))\n",
    "plt.title(\"Histogram średnia ilość asyst zdbytych w 90 minut\")"
   ]
  },
  {
   "cell_type": "code",
   "execution_count": 12,
   "metadata": {
    "scrolled": true
   },
   "outputs": [
    {
     "data": {
      "text/plain": [
       "Text(0.5, 1.0, 'Wykres ilości zawodników z podziałem na pozycje')"
      ]
     },
     "execution_count": 12,
     "metadata": {},
     "output_type": "execute_result"
    },
    {
     "data": {
      "image/png": "[encoded data removed]",
      "text/plain": [
       "<Figure size 432x288 with 1 Axes>"
      ]
     },
     "metadata": {
      "needs_background": "light"
     },
     "output_type": "display_data"
    }
   ],
   "source": [
    "gk = 0\n",
    "defender = 0\n",
    "midfield = 0\n",
    "attack = 0\n",
    "    \n",
    "for index, ele in enumerate(data['position2']):\n",
    "    name = ele.lower()\n",
    "    value_to_set = 0\n",
    "    if 'goalkeeper' in name:\n",
    "        value_to_set = 0\n",
    "        gk += 1\n",
    "    elif 'defender' in name:\n",
    "        value_to_set = 1\n",
    "        defender += 1\n",
    "    elif 'midfield' in name:\n",
    "        value_to_set = 2\n",
    "        midfield += 1\n",
    "    elif 'forward' in name:\n",
    "        value_to_set = 3\n",
    "        attack = attack + 1\n",
    "    else:\n",
    "        print(\"Other position\")\n",
    "    data.loc[index, 'position2'] = value_to_set\n",
    "\n",
    "l = [gk, defender, midfield, attack]\n",
    "fig, ax = plt.subplots()\n",
    "ax.bar(np.arange(4), l)\n",
    "ax.set_xticks(np.arange(4))\n",
    "ax.set_xticklabels(('0', '1', '2', '3'))\n",
    "plt.title(\"Wykres ilości zawodników z podziałem na pozycje\")\n"
   ]
  },
  {
   "cell_type": "code",
   "execution_count": 13,
   "metadata": {
    "scrolled": true
   },
   "outputs": [],
   "source": [
    "from sklearn.preprocessing import LabelEncoder\n",
    " \n",
    "labelEncodedColumns = ['player', 'nationality', 'position', 'squad', 'position2', 'foot', 'league', 'Attendance', 'Season']\n",
    " \n",
    "le = LabelEncoder()\n",
    " \n",
    "for columnName in labelEncodedColumns:\n",
    "    data[columnName] = le.fit_transform(data[columnName])\n",
    "data2 = data[['goals_per90', 'assists_per90', 'cards_yellow', 'shots_total_per90', 'passes_short', 'passes_medium', 'passes_long', 'passes_into_penalty_area','pressures','blocks','blocked_shots','interceptions','dribbles','fouls','goals_against_per90_gk', 'saves', 'clean_sheets']]"
   ]
  },
  {
   "cell_type": "code",
   "execution_count": 14,
   "metadata": {
    "scrolled": false
   },
   "outputs": [
    {
     "data": {
      "text/plain": [
       "array([[<matplotlib.axes._subplots.AxesSubplot object at 0x0000025EDFD075C8>,\n",
       "        <matplotlib.axes._subplots.AxesSubplot object at 0x0000025EDFD763C8>,\n",
       "        <matplotlib.axes._subplots.AxesSubplot object at 0x0000025EDFDAF388>],\n",
       "       [<matplotlib.axes._subplots.AxesSubplot object at 0x0000025EDFDE6448>,\n",
       "        <matplotlib.axes._subplots.AxesSubplot object at 0x0000025EDFE1F548>,\n",
       "        <matplotlib.axes._subplots.AxesSubplot object at 0x0000025EDFE5FE88>],\n",
       "       [<matplotlib.axes._subplots.AxesSubplot object at 0x0000025EDFE92788>,\n",
       "        <matplotlib.axes._subplots.AxesSubplot object at 0x0000025EDFECA888>,\n",
       "        <matplotlib.axes._subplots.AxesSubplot object at 0x0000025EDFED7488>],\n",
       "       [<matplotlib.axes._subplots.AxesSubplot object at 0x0000025EDFF0D608>,\n",
       "        <matplotlib.axes._subplots.AxesSubplot object at 0x0000025EDFF73B88>,\n",
       "        <matplotlib.axes._subplots.AxesSubplot object at 0x0000025EDFFACC88>],\n",
       "       [<matplotlib.axes._subplots.AxesSubplot object at 0x0000025EDFFE4DC8>,\n",
       "        <matplotlib.axes._subplots.AxesSubplot object at 0x0000025EE001CEC8>,\n",
       "        <matplotlib.axes._subplots.AxesSubplot object at 0x0000025EE0055F48>],\n",
       "       [<matplotlib.axes._subplots.AxesSubplot object at 0x0000025EE00950C8>,\n",
       "        <matplotlib.axes._subplots.AxesSubplot object at 0x0000025EE00CE1C8>,\n",
       "        <matplotlib.axes._subplots.AxesSubplot object at 0x0000025EE01052C8>]],\n",
       "      dtype=object)"
      ]
     },
     "execution_count": 14,
     "metadata": {},
     "output_type": "execute_result"
    },
    {
     "data": {
      "image/png": "[encoded data removed]",
      "text/plain": [
       "<Figure size 1152x2160 with 18 Axes>"
      ]
     },
     "metadata": {
      "needs_background": "light"
     },
     "output_type": "display_data"
    }
   ],
   "source": [
    "data2.hist(figsize = (16,30), column=data2.columns, layout=(6, 3), bins = 20)"
   ]
  },
  {
   "cell_type": "code",
   "execution_count": 15,
   "metadata": {},
   "outputs": [
    {
     "name": "stderr",
     "output_type": "stream",
     "text": [
      "D:\\Anaconda\\Anaconda\\lib\\site-packages\\pandas\\core\\indexing.py:670: SettingWithCopyWarning: \n",
      "A value is trying to be set on a copy of a slice from a DataFrame\n",
      "\n",
      "See the caveats in the documentation: https://pandas.pydata.org/pandas-docs/stable/user_guide/indexing.html#returning-a-view-versus-a-copy\n",
      "  self._setitem_with_indexer(indexer, value)\n",
      "D:\\Anaconda\\Anaconda\\lib\\site-packages\\ipykernel_launcher.py:5: SettingWithCopyWarning: \n",
      "A value is trying to be set on a copy of a slice from a DataFrame\n",
      "\n",
      "See the caveats in the documentation: https://pandas.pydata.org/pandas-docs/stable/user_guide/indexing.html#returning-a-view-versus-a-copy\n",
      "  \"\"\"\n",
      "D:\\Anaconda\\Anaconda\\lib\\site-packages\\ipykernel_launcher.py:6: SettingWithCopyWarning: \n",
      "A value is trying to be set on a copy of a slice from a DataFrame\n",
      "\n",
      "See the caveats in the documentation: https://pandas.pydata.org/pandas-docs/stable/user_guide/indexing.html#returning-a-view-versus-a-copy\n",
      "  \n",
      "D:\\Anaconda\\Anaconda\\lib\\site-packages\\ipykernel_launcher.py:7: SettingWithCopyWarning: \n",
      "A value is trying to be set on a copy of a slice from a DataFrame\n",
      "\n",
      "See the caveats in the documentation: https://pandas.pydata.org/pandas-docs/stable/user_guide/indexing.html#returning-a-view-versus-a-copy\n",
      "  import sys\n",
      "D:\\Anaconda\\Anaconda\\lib\\site-packages\\ipykernel_launcher.py:8: SettingWithCopyWarning: \n",
      "A value is trying to be set on a copy of a slice from a DataFrame\n",
      "\n",
      "See the caveats in the documentation: https://pandas.pydata.org/pandas-docs/stable/user_guide/indexing.html#returning-a-view-versus-a-copy\n",
      "  \n",
      "D:\\Anaconda\\Anaconda\\lib\\site-packages\\ipykernel_launcher.py:9: SettingWithCopyWarning: \n",
      "A value is trying to be set on a copy of a slice from a DataFrame\n",
      "\n",
      "See the caveats in the documentation: https://pandas.pydata.org/pandas-docs/stable/user_guide/indexing.html#returning-a-view-versus-a-copy\n",
      "  if __name__ == '__main__':\n",
      "D:\\Anaconda\\Anaconda\\lib\\site-packages\\ipykernel_launcher.py:10: SettingWithCopyWarning: \n",
      "A value is trying to be set on a copy of a slice from a DataFrame\n",
      "\n",
      "See the caveats in the documentation: https://pandas.pydata.org/pandas-docs/stable/user_guide/indexing.html#returning-a-view-versus-a-copy\n",
      "  # Remove the CWD from sys.path while we load stuff.\n",
      "D:\\Anaconda\\Anaconda\\lib\\site-packages\\ipykernel_launcher.py:11: SettingWithCopyWarning: \n",
      "A value is trying to be set on a copy of a slice from a DataFrame\n",
      "\n",
      "See the caveats in the documentation: https://pandas.pydata.org/pandas-docs/stable/user_guide/indexing.html#returning-a-view-versus-a-copy\n",
      "  # This is added back by InteractiveShellApp.init_path()\n",
      "D:\\Anaconda\\Anaconda\\lib\\site-packages\\ipykernel_launcher.py:12: SettingWithCopyWarning: \n",
      "A value is trying to be set on a copy of a slice from a DataFrame\n",
      "\n",
      "See the caveats in the documentation: https://pandas.pydata.org/pandas-docs/stable/user_guide/indexing.html#returning-a-view-versus-a-copy\n",
      "  if sys.path[0] == '':\n",
      "D:\\Anaconda\\Anaconda\\lib\\site-packages\\ipykernel_launcher.py:13: SettingWithCopyWarning: \n",
      "A value is trying to be set on a copy of a slice from a DataFrame\n",
      "\n",
      "See the caveats in the documentation: https://pandas.pydata.org/pandas-docs/stable/user_guide/indexing.html#returning-a-view-versus-a-copy\n",
      "  del sys.path[0]\n",
      "D:\\Anaconda\\Anaconda\\lib\\site-packages\\ipykernel_launcher.py:14: SettingWithCopyWarning: \n",
      "A value is trying to be set on a copy of a slice from a DataFrame\n",
      "\n",
      "See the caveats in the documentation: https://pandas.pydata.org/pandas-docs/stable/user_guide/indexing.html#returning-a-view-versus-a-copy\n",
      "  \n",
      "D:\\Anaconda\\Anaconda\\lib\\site-packages\\ipykernel_launcher.py:15: SettingWithCopyWarning: \n",
      "A value is trying to be set on a copy of a slice from a DataFrame\n",
      "\n",
      "See the caveats in the documentation: https://pandas.pydata.org/pandas-docs/stable/user_guide/indexing.html#returning-a-view-versus-a-copy\n",
      "  from ipykernel import kernelapp as app\n",
      "D:\\Anaconda\\Anaconda\\lib\\site-packages\\ipykernel_launcher.py:16: SettingWithCopyWarning: \n",
      "A value is trying to be set on a copy of a slice from a DataFrame\n",
      "\n",
      "See the caveats in the documentation: https://pandas.pydata.org/pandas-docs/stable/user_guide/indexing.html#returning-a-view-versus-a-copy\n",
      "  app.launch_new_instance()\n",
      "D:\\Anaconda\\Anaconda\\lib\\site-packages\\ipykernel_launcher.py:17: SettingWithCopyWarning: \n",
      "A value is trying to be set on a copy of a slice from a DataFrame\n",
      "\n",
      "See the caveats in the documentation: https://pandas.pydata.org/pandas-docs/stable/user_guide/indexing.html#returning-a-view-versus-a-copy\n"
     ]
    },
    {
     "data": {
      "text/html": [
       "<div>\n",
       "<style scoped>\n",
       "    .dataframe tbody tr th:only-of-type {\n",
       "        vertical-align: middle;\n",
       "    }\n",
       "\n",
       "    .dataframe tbody tr th {\n",
       "        vertical-align: top;\n",
       "    }\n",
       "\n",
       "    .dataframe thead th {\n",
       "        text-align: right;\n",
       "    }\n",
       "</style>\n",
       "<table border=\"1\" class=\"dataframe\">\n",
       "  <thead>\n",
       "    <tr style=\"text-align: right;\">\n",
       "      <th></th>\n",
       "      <th>goals_per90</th>\n",
       "      <th>assists_per90</th>\n",
       "      <th>cards_yellow</th>\n",
       "      <th>shots_total_per90</th>\n",
       "      <th>passes_short</th>\n",
       "      <th>passes_medium</th>\n",
       "      <th>passes_long</th>\n",
       "      <th>passes_into_penalty_area</th>\n",
       "      <th>pressures</th>\n",
       "      <th>blocks</th>\n",
       "      <th>blocked_shots</th>\n",
       "      <th>interceptions</th>\n",
       "      <th>dribbles</th>\n",
       "      <th>fouls</th>\n",
       "      <th>goals_against_per90_gk</th>\n",
       "      <th>saves</th>\n",
       "      <th>clean_sheets</th>\n",
       "    </tr>\n",
       "  </thead>\n",
       "  <tbody>\n",
       "    <tr>\n",
       "      <th>0</th>\n",
       "      <td>0.04</td>\n",
       "      <td>0.04</td>\n",
       "      <td>0.379747</td>\n",
       "      <td>0.13</td>\n",
       "      <td>29.240506</td>\n",
       "      <td>30.987342</td>\n",
       "      <td>13.063291</td>\n",
       "      <td>1.063291</td>\n",
       "      <td>18.835443</td>\n",
       "      <td>2.962025</td>\n",
       "      <td>0.607595</td>\n",
       "      <td>0.683544</td>\n",
       "      <td>1.974684</td>\n",
       "      <td>2.430380</td>\n",
       "      <td>0.0</td>\n",
       "      <td>0.0</td>\n",
       "      <td>0.0</td>\n",
       "    </tr>\n",
       "    <tr>\n",
       "      <th>1</th>\n",
       "      <td>0.06</td>\n",
       "      <td>0.13</td>\n",
       "      <td>0.125962</td>\n",
       "      <td>0.84</td>\n",
       "      <td>12.029391</td>\n",
       "      <td>5.983205</td>\n",
       "      <td>1.007698</td>\n",
       "      <td>0.377887</td>\n",
       "      <td>17.004899</td>\n",
       "      <td>1.574528</td>\n",
       "      <td>0.125962</td>\n",
       "      <td>0.377887</td>\n",
       "      <td>2.771169</td>\n",
       "      <td>1.196641</td>\n",
       "      <td>0.0</td>\n",
       "      <td>0.0</td>\n",
       "      <td>0.0</td>\n",
       "    </tr>\n",
       "    <tr>\n",
       "      <th>2</th>\n",
       "      <td>0.00</td>\n",
       "      <td>0.00</td>\n",
       "      <td>0.075949</td>\n",
       "      <td>0.56</td>\n",
       "      <td>16.860759</td>\n",
       "      <td>15.265823</td>\n",
       "      <td>7.139241</td>\n",
       "      <td>0.911392</td>\n",
       "      <td>19.291139</td>\n",
       "      <td>1.215190</td>\n",
       "      <td>0.151899</td>\n",
       "      <td>0.759494</td>\n",
       "      <td>2.202532</td>\n",
       "      <td>1.063291</td>\n",
       "      <td>0.0</td>\n",
       "      <td>0.0</td>\n",
       "      <td>0.0</td>\n",
       "    </tr>\n",
       "    <tr>\n",
       "      <th>3</th>\n",
       "      <td>0.00</td>\n",
       "      <td>0.03</td>\n",
       "      <td>0.371761</td>\n",
       "      <td>0.68</td>\n",
       "      <td>15.512580</td>\n",
       "      <td>18.858430</td>\n",
       "      <td>8.415321</td>\n",
       "      <td>0.168982</td>\n",
       "      <td>11.761172</td>\n",
       "      <td>2.095381</td>\n",
       "      <td>0.067593</td>\n",
       "      <td>0.642133</td>\n",
       "      <td>0.337965</td>\n",
       "      <td>0.473151</td>\n",
       "      <td>0.0</td>\n",
       "      <td>0.0</td>\n",
       "      <td>0.0</td>\n",
       "    </tr>\n",
       "    <tr>\n",
       "      <th>4</th>\n",
       "      <td>0.08</td>\n",
       "      <td>0.00</td>\n",
       "      <td>0.381895</td>\n",
       "      <td>0.25</td>\n",
       "      <td>7.807638</td>\n",
       "      <td>15.106082</td>\n",
       "      <td>12.390382</td>\n",
       "      <td>0.000000</td>\n",
       "      <td>6.789250</td>\n",
       "      <td>0.678925</td>\n",
       "      <td>0.848656</td>\n",
       "      <td>0.509194</td>\n",
       "      <td>0.169731</td>\n",
       "      <td>1.442716</td>\n",
       "      <td>0.0</td>\n",
       "      <td>0.0</td>\n",
       "      <td>0.0</td>\n",
       "    </tr>\n",
       "    <tr>\n",
       "      <th>...</th>\n",
       "      <td>...</td>\n",
       "      <td>...</td>\n",
       "      <td>...</td>\n",
       "      <td>...</td>\n",
       "      <td>...</td>\n",
       "      <td>...</td>\n",
       "      <td>...</td>\n",
       "      <td>...</td>\n",
       "      <td>...</td>\n",
       "      <td>...</td>\n",
       "      <td>...</td>\n",
       "      <td>...</td>\n",
       "      <td>...</td>\n",
       "      <td>...</td>\n",
       "      <td>...</td>\n",
       "      <td>...</td>\n",
       "      <td>...</td>\n",
       "    </tr>\n",
       "    <tr>\n",
       "      <th>2639</th>\n",
       "      <td>0.31</td>\n",
       "      <td>0.00</td>\n",
       "      <td>0.000000</td>\n",
       "      <td>3.11</td>\n",
       "      <td>15.882353</td>\n",
       "      <td>10.899654</td>\n",
       "      <td>3.737024</td>\n",
       "      <td>0.934256</td>\n",
       "      <td>13.391003</td>\n",
       "      <td>1.557093</td>\n",
       "      <td>0.311419</td>\n",
       "      <td>0.000000</td>\n",
       "      <td>3.737024</td>\n",
       "      <td>4.359862</td>\n",
       "      <td>0.0</td>\n",
       "      <td>0.0</td>\n",
       "      <td>0.0</td>\n",
       "    </tr>\n",
       "    <tr>\n",
       "      <th>2640</th>\n",
       "      <td>0.07</td>\n",
       "      <td>0.03</td>\n",
       "      <td>0.399261</td>\n",
       "      <td>0.77</td>\n",
       "      <td>11.378928</td>\n",
       "      <td>25.918669</td>\n",
       "      <td>12.709797</td>\n",
       "      <td>0.299445</td>\n",
       "      <td>11.412200</td>\n",
       "      <td>1.929760</td>\n",
       "      <td>0.632163</td>\n",
       "      <td>0.199630</td>\n",
       "      <td>0.299445</td>\n",
       "      <td>1.430684</td>\n",
       "      <td>0.0</td>\n",
       "      <td>0.0</td>\n",
       "      <td>0.0</td>\n",
       "    </tr>\n",
       "    <tr>\n",
       "      <th>2641</th>\n",
       "      <td>0.14</td>\n",
       "      <td>0.00</td>\n",
       "      <td>0.034549</td>\n",
       "      <td>1.52</td>\n",
       "      <td>7.669866</td>\n",
       "      <td>5.769674</td>\n",
       "      <td>3.005758</td>\n",
       "      <td>0.483685</td>\n",
       "      <td>6.080614</td>\n",
       "      <td>0.449136</td>\n",
       "      <td>0.103647</td>\n",
       "      <td>0.034549</td>\n",
       "      <td>0.414587</td>\n",
       "      <td>1.347409</td>\n",
       "      <td>0.0</td>\n",
       "      <td>0.0</td>\n",
       "      <td>0.0</td>\n",
       "    </tr>\n",
       "    <tr>\n",
       "      <th>2642</th>\n",
       "      <td>0.00</td>\n",
       "      <td>0.00</td>\n",
       "      <td>1.104294</td>\n",
       "      <td>0.00</td>\n",
       "      <td>13.251534</td>\n",
       "      <td>25.398773</td>\n",
       "      <td>18.220859</td>\n",
       "      <td>0.552147</td>\n",
       "      <td>11.042945</td>\n",
       "      <td>8.834356</td>\n",
       "      <td>1.656442</td>\n",
       "      <td>0.000000</td>\n",
       "      <td>0.552147</td>\n",
       "      <td>1.104294</td>\n",
       "      <td>0.0</td>\n",
       "      <td>0.0</td>\n",
       "      <td>0.0</td>\n",
       "    </tr>\n",
       "    <tr>\n",
       "      <th>2643</th>\n",
       "      <td>0.00</td>\n",
       "      <td>0.00</td>\n",
       "      <td>0.138037</td>\n",
       "      <td>0.84</td>\n",
       "      <td>21.947853</td>\n",
       "      <td>16.426380</td>\n",
       "      <td>6.211656</td>\n",
       "      <td>0.828221</td>\n",
       "      <td>16.150307</td>\n",
       "      <td>2.760736</td>\n",
       "      <td>0.276074</td>\n",
       "      <td>1.380368</td>\n",
       "      <td>5.659509</td>\n",
       "      <td>0.966258</td>\n",
       "      <td>0.0</td>\n",
       "      <td>0.0</td>\n",
       "      <td>0.0</td>\n",
       "    </tr>\n",
       "  </tbody>\n",
       "</table>\n",
       "<p>2644 rows × 17 columns</p>\n",
       "</div>"
      ],
      "text/plain": [
       "      goals_per90  assists_per90  cards_yellow  shots_total_per90  \\\n",
       "0            0.04           0.04      0.379747               0.13   \n",
       "1            0.06           0.13      0.125962               0.84   \n",
       "2            0.00           0.00      0.075949               0.56   \n",
       "3            0.00           0.03      0.371761               0.68   \n",
       "4            0.08           0.00      0.381895               0.25   \n",
       "...           ...            ...           ...                ...   \n",
       "2639         0.31           0.00      0.000000               3.11   \n",
       "2640         0.07           0.03      0.399261               0.77   \n",
       "2641         0.14           0.00      0.034549               1.52   \n",
       "2642         0.00           0.00      1.104294               0.00   \n",
       "2643         0.00           0.00      0.138037               0.84   \n",
       "\n",
       "      passes_short  passes_medium  passes_long  passes_into_penalty_area  \\\n",
       "0        29.240506      30.987342    13.063291                  1.063291   \n",
       "1        12.029391       5.983205     1.007698                  0.377887   \n",
       "2        16.860759      15.265823     7.139241                  0.911392   \n",
       "3        15.512580      18.858430     8.415321                  0.168982   \n",
       "4         7.807638      15.106082    12.390382                  0.000000   \n",
       "...            ...            ...          ...                       ...   \n",
       "2639     15.882353      10.899654     3.737024                  0.934256   \n",
       "2640     11.378928      25.918669    12.709797                  0.299445   \n",
       "2641      7.669866       5.769674     3.005758                  0.483685   \n",
       "2642     13.251534      25.398773    18.220859                  0.552147   \n",
       "2643     21.947853      16.426380     6.211656                  0.828221   \n",
       "\n",
       "      pressures    blocks  blocked_shots  interceptions  dribbles     fouls  \\\n",
       "0     18.835443  2.962025       0.607595       0.683544  1.974684  2.430380   \n",
       "1     17.004899  1.574528       0.125962       0.377887  2.771169  1.196641   \n",
       "2     19.291139  1.215190       0.151899       0.759494  2.202532  1.063291   \n",
       "3     11.761172  2.095381       0.067593       0.642133  0.337965  0.473151   \n",
       "4      6.789250  0.678925       0.848656       0.509194  0.169731  1.442716   \n",
       "...         ...       ...            ...            ...       ...       ...   \n",
       "2639  13.391003  1.557093       0.311419       0.000000  3.737024  4.359862   \n",
       "2640  11.412200  1.929760       0.632163       0.199630  0.299445  1.430684   \n",
       "2641   6.080614  0.449136       0.103647       0.034549  0.414587  1.347409   \n",
       "2642  11.042945  8.834356       1.656442       0.000000  0.552147  1.104294   \n",
       "2643  16.150307  2.760736       0.276074       1.380368  5.659509  0.966258   \n",
       "\n",
       "      goals_against_per90_gk  saves  clean_sheets  \n",
       "0                        0.0    0.0           0.0  \n",
       "1                        0.0    0.0           0.0  \n",
       "2                        0.0    0.0           0.0  \n",
       "3                        0.0    0.0           0.0  \n",
       "4                        0.0    0.0           0.0  \n",
       "...                      ...    ...           ...  \n",
       "2639                     0.0    0.0           0.0  \n",
       "2640                     0.0    0.0           0.0  \n",
       "2641                     0.0    0.0           0.0  \n",
       "2642                     0.0    0.0           0.0  \n",
       "2643                     0.0    0.0           0.0  \n",
       "\n",
       "[2644 rows x 17 columns]"
      ]
     },
     "execution_count": 15,
     "metadata": {},
     "output_type": "execute_result"
    }
   ],
   "source": [
    "for i in range(len(data2)):\n",
    "    minutes = data.loc[i, \"minutes\"]\n",
    "    if minutes > 90:\n",
    "        scale = 90 / minutes\n",
    "        data2.iloc[i, data2.columns.get_loc(\"cards_yellow\")] *= scale\n",
    "        data2.iloc[i, data2.columns.get_loc(\"passes_short\")] *= scale\n",
    "        data2.iloc[i, data2.columns.get_loc(\"passes_medium\")] *= scale\n",
    "        data2.iloc[i, data2.columns.get_loc(\"passes_long\")] *= scale\n",
    "        data2.iloc[i, data2.columns.get_loc(\"passes_into_penalty_area\")] *= scale\n",
    "        data2.iloc[i, data2.columns.get_loc(\"pressures\")] *= scale\n",
    "        data2.iloc[i, data2.columns.get_loc(\"blocks\")] *= scale\n",
    "        data2.iloc[i, data2.columns.get_loc(\"blocked_shots\")] *= scale\n",
    "        data2.iloc[i, data2.columns.get_loc(\"interceptions\")] *= scale\n",
    "        data2.iloc[i, data2.columns.get_loc(\"dribbles\")] *= scale\n",
    "        data2.iloc[i, data2.columns.get_loc(\"fouls\")] *= scale\n",
    "        data2.iloc[i, data2.columns.get_loc(\"saves\")] *= scale\n",
    "        data2.iloc[i, data2.columns.get_loc(\"clean_sheets\")] *= scale\n",
    "data2"
   ]
  },
  {
   "cell_type": "code",
   "execution_count": 16,
   "metadata": {
    "scrolled": true
   },
   "outputs": [],
   "source": [
    "from sklearn.preprocessing import StandardScaler\n",
    "import seaborn as sns"
   ]
  },
  {
   "cell_type": "code",
   "execution_count": 17,
   "metadata": {
    "scrolled": true
   },
   "outputs": [
    {
     "data": {
      "text/plain": [
       "<matplotlib.axes._subplots.AxesSubplot at 0x25ee1ae6ec8>"
      ]
     },
     "execution_count": 17,
     "metadata": {},
     "output_type": "execute_result"
    },
    {
     "data": {
      "image/png": "[encoded data removed]",
      "text/plain": [
       "<Figure size 720x576 with 2 Axes>"
      ]
     },
     "metadata": {
      "needs_background": "light"
     },
     "output_type": "display_data"
    }
   ],
   "source": [
    "f, ax = plt.subplots(figsize=(10, 8))\n",
    "corr = data2.corr()\n",
    "sns.heatmap(corr, mask=np.zeros_like(corr, dtype=np.bool), cmap=sns.diverging_palette(220, 20, as_cmap=True),\n",
    "            square=True, ax=ax)"
   ]
  },
  {
   "cell_type": "code",
   "execution_count": 18,
   "metadata": {
    "scrolled": true
   },
   "outputs": [
    {
     "data": {
      "text/html": [
       "<div>\n",
       "<style scoped>\n",
       "    .dataframe tbody tr th:only-of-type {\n",
       "        vertical-align: middle;\n",
       "    }\n",
       "\n",
       "    .dataframe tbody tr th {\n",
       "        vertical-align: top;\n",
       "    }\n",
       "\n",
       "    .dataframe thead th {\n",
       "        text-align: right;\n",
       "    }\n",
       "</style>\n",
       "<table border=\"1\" class=\"dataframe\">\n",
       "  <thead>\n",
       "    <tr style=\"text-align: right;\">\n",
       "      <th></th>\n",
       "      <th>goals_per90</th>\n",
       "      <th>assists_per90</th>\n",
       "      <th>cards_yellow</th>\n",
       "      <th>shots_total_per90</th>\n",
       "      <th>passes_short</th>\n",
       "      <th>passes_medium</th>\n",
       "      <th>passes_long</th>\n",
       "      <th>passes_into_penalty_area</th>\n",
       "      <th>pressures</th>\n",
       "      <th>blocks</th>\n",
       "      <th>blocked_shots</th>\n",
       "      <th>interceptions</th>\n",
       "      <th>dribbles</th>\n",
       "      <th>fouls</th>\n",
       "      <th>goals_against_per90_gk</th>\n",
       "      <th>saves</th>\n",
       "      <th>clean_sheets</th>\n",
       "    </tr>\n",
       "  </thead>\n",
       "  <tbody>\n",
       "    <tr>\n",
       "      <th>0</th>\n",
       "      <td>-0.218645</td>\n",
       "      <td>-0.241127</td>\n",
       "      <td>0.544918</td>\n",
       "      <td>-0.656030</td>\n",
       "      <td>0.471558</td>\n",
       "      <td>0.455994</td>\n",
       "      <td>0.286178</td>\n",
       "      <td>0.303498</td>\n",
       "      <td>0.097541</td>\n",
       "      <td>0.542926</td>\n",
       "      <td>0.671167</td>\n",
       "      <td>-0.023744</td>\n",
       "      <td>0.108168</td>\n",
       "      <td>0.648287</td>\n",
       "      <td>-0.226008</td>\n",
       "      <td>-0.204311</td>\n",
       "      <td>-0.190185</td>\n",
       "    </tr>\n",
       "    <tr>\n",
       "      <th>1</th>\n",
       "      <td>-0.154608</td>\n",
       "      <td>0.445713</td>\n",
       "      <td>-0.346849</td>\n",
       "      <td>-0.229401</td>\n",
       "      <td>-0.265364</td>\n",
       "      <td>-0.532390</td>\n",
       "      <td>-0.652252</td>\n",
       "      <td>-0.360510</td>\n",
       "      <td>0.010521</td>\n",
       "      <td>-0.043804</td>\n",
       "      <td>-0.405623</td>\n",
       "      <td>-0.307665</td>\n",
       "      <td>0.510297</td>\n",
       "      <td>-0.117367</td>\n",
       "      <td>-0.226008</td>\n",
       "      <td>-0.204311</td>\n",
       "      <td>-0.190185</td>\n",
       "    </tr>\n",
       "    <tr>\n",
       "      <th>2</th>\n",
       "      <td>-0.346720</td>\n",
       "      <td>-0.546389</td>\n",
       "      <td>-0.522587</td>\n",
       "      <td>-0.397649</td>\n",
       "      <td>-0.058501</td>\n",
       "      <td>-0.165459</td>\n",
       "      <td>-0.174961</td>\n",
       "      <td>0.156341</td>\n",
       "      <td>0.119204</td>\n",
       "      <td>-0.195756</td>\n",
       "      <td>-0.347636</td>\n",
       "      <td>0.046804</td>\n",
       "      <td>0.223204</td>\n",
       "      <td>-0.200123</td>\n",
       "      <td>-0.226008</td>\n",
       "      <td>-0.204311</td>\n",
       "      <td>-0.190185</td>\n",
       "    </tr>\n",
       "    <tr>\n",
       "      <th>3</th>\n",
       "      <td>-0.346720</td>\n",
       "      <td>-0.317443</td>\n",
       "      <td>0.516857</td>\n",
       "      <td>-0.325542</td>\n",
       "      <td>-0.116225</td>\n",
       "      <td>-0.023448</td>\n",
       "      <td>-0.075629</td>\n",
       "      <td>-0.562893</td>\n",
       "      <td>-0.238756</td>\n",
       "      <td>0.176449</td>\n",
       "      <td>-0.536120</td>\n",
       "      <td>-0.062211</td>\n",
       "      <td>-0.718178</td>\n",
       "      <td>-0.566362</td>\n",
       "      <td>-0.226008</td>\n",
       "      <td>-0.204311</td>\n",
       "      <td>-0.190185</td>\n",
       "    </tr>\n",
       "    <tr>\n",
       "      <th>4</th>\n",
       "      <td>-0.090570</td>\n",
       "      <td>-0.546389</td>\n",
       "      <td>0.552467</td>\n",
       "      <td>-0.583924</td>\n",
       "      <td>-0.446125</td>\n",
       "      <td>-0.171773</td>\n",
       "      <td>0.233797</td>\n",
       "      <td>-0.726600</td>\n",
       "      <td>-0.475112</td>\n",
       "      <td>-0.422526</td>\n",
       "      <td>1.210110</td>\n",
       "      <td>-0.185696</td>\n",
       "      <td>-0.803115</td>\n",
       "      <td>0.035346</td>\n",
       "      <td>-0.226008</td>\n",
       "      <td>-0.204311</td>\n",
       "      <td>-0.190185</td>\n",
       "    </tr>\n",
       "    <tr>\n",
       "      <th>...</th>\n",
       "      <td>...</td>\n",
       "      <td>...</td>\n",
       "      <td>...</td>\n",
       "      <td>...</td>\n",
       "      <td>...</td>\n",
       "      <td>...</td>\n",
       "      <td>...</td>\n",
       "      <td>...</td>\n",
       "      <td>...</td>\n",
       "      <td>...</td>\n",
       "      <td>...</td>\n",
       "      <td>...</td>\n",
       "      <td>...</td>\n",
       "      <td>...</td>\n",
       "      <td>...</td>\n",
       "      <td>...</td>\n",
       "      <td>...</td>\n",
       "    </tr>\n",
       "    <tr>\n",
       "      <th>2639</th>\n",
       "      <td>0.645861</td>\n",
       "      <td>-0.546389</td>\n",
       "      <td>-0.789464</td>\n",
       "      <td>1.134612</td>\n",
       "      <td>-0.100393</td>\n",
       "      <td>-0.338048</td>\n",
       "      <td>-0.439796</td>\n",
       "      <td>0.178491</td>\n",
       "      <td>-0.161277</td>\n",
       "      <td>-0.051176</td>\n",
       "      <td>0.009003</td>\n",
       "      <td>-0.658677</td>\n",
       "      <td>0.997938</td>\n",
       "      <td>1.845717</td>\n",
       "      <td>-0.226008</td>\n",
       "      <td>-0.204311</td>\n",
       "      <td>-0.190185</td>\n",
       "    </tr>\n",
       "    <tr>\n",
       "      <th>2640</th>\n",
       "      <td>-0.122589</td>\n",
       "      <td>-0.317443</td>\n",
       "      <td>0.613487</td>\n",
       "      <td>-0.271463</td>\n",
       "      <td>-0.293214</td>\n",
       "      <td>0.255635</td>\n",
       "      <td>0.258661</td>\n",
       "      <td>-0.436502</td>\n",
       "      <td>-0.255346</td>\n",
       "      <td>0.106413</td>\n",
       "      <td>0.726093</td>\n",
       "      <td>-0.473244</td>\n",
       "      <td>-0.737625</td>\n",
       "      <td>0.027879</td>\n",
       "      <td>-0.226008</td>\n",
       "      <td>-0.204311</td>\n",
       "      <td>-0.190185</td>\n",
       "    </tr>\n",
       "    <tr>\n",
       "      <th>2641</th>\n",
       "      <td>0.101542</td>\n",
       "      <td>-0.546389</td>\n",
       "      <td>-0.668063</td>\n",
       "      <td>0.179202</td>\n",
       "      <td>-0.452024</td>\n",
       "      <td>-0.540830</td>\n",
       "      <td>-0.496719</td>\n",
       "      <td>-0.258014</td>\n",
       "      <td>-0.508799</td>\n",
       "      <td>-0.519697</td>\n",
       "      <td>-0.455514</td>\n",
       "      <td>-0.626585</td>\n",
       "      <td>-0.679492</td>\n",
       "      <td>-0.023801</td>\n",
       "      <td>-0.226008</td>\n",
       "      <td>-0.204311</td>\n",
       "      <td>-0.190185</td>\n",
       "    </tr>\n",
       "    <tr>\n",
       "      <th>2642</th>\n",
       "      <td>-0.346720</td>\n",
       "      <td>-0.546389</td>\n",
       "      <td>3.090885</td>\n",
       "      <td>-0.734146</td>\n",
       "      <td>-0.213036</td>\n",
       "      <td>0.235084</td>\n",
       "      <td>0.687652</td>\n",
       "      <td>-0.191689</td>\n",
       "      <td>-0.272899</td>\n",
       "      <td>3.026152</td>\n",
       "      <td>3.016081</td>\n",
       "      <td>-0.658677</td>\n",
       "      <td>-0.610041</td>\n",
       "      <td>-0.174677</td>\n",
       "      <td>-0.226008</td>\n",
       "      <td>-0.204311</td>\n",
       "      <td>-0.190185</td>\n",
       "    </tr>\n",
       "    <tr>\n",
       "      <th>2643</th>\n",
       "      <td>-0.346720</td>\n",
       "      <td>-0.546389</td>\n",
       "      <td>-0.304420</td>\n",
       "      <td>-0.229401</td>\n",
       "      <td>0.159311</td>\n",
       "      <td>-0.119584</td>\n",
       "      <td>-0.247166</td>\n",
       "      <td>0.075766</td>\n",
       "      <td>-0.030105</td>\n",
       "      <td>0.457807</td>\n",
       "      <td>-0.070018</td>\n",
       "      <td>0.623524</td>\n",
       "      <td>1.968562</td>\n",
       "      <td>-0.260342</td>\n",
       "      <td>-0.226008</td>\n",
       "      <td>-0.204311</td>\n",
       "      <td>-0.190185</td>\n",
       "    </tr>\n",
       "  </tbody>\n",
       "</table>\n",
       "<p>2644 rows × 17 columns</p>\n",
       "</div>"
      ],
      "text/plain": [
       "      goals_per90  assists_per90  cards_yellow  shots_total_per90  \\\n",
       "0       -0.218645      -0.241127      0.544918          -0.656030   \n",
       "1       -0.154608       0.445713     -0.346849          -0.229401   \n",
       "2       -0.346720      -0.546389     -0.522587          -0.397649   \n",
       "3       -0.346720      -0.317443      0.516857          -0.325542   \n",
       "4       -0.090570      -0.546389      0.552467          -0.583924   \n",
       "...           ...            ...           ...                ...   \n",
       "2639     0.645861      -0.546389     -0.789464           1.134612   \n",
       "2640    -0.122589      -0.317443      0.613487          -0.271463   \n",
       "2641     0.101542      -0.546389     -0.668063           0.179202   \n",
       "2642    -0.346720      -0.546389      3.090885          -0.734146   \n",
       "2643    -0.346720      -0.546389     -0.304420          -0.229401   \n",
       "\n",
       "      passes_short  passes_medium  passes_long  passes_into_penalty_area  \\\n",
       "0         0.471558       0.455994     0.286178                  0.303498   \n",
       "1        -0.265364      -0.532390    -0.652252                 -0.360510   \n",
       "2        -0.058501      -0.165459    -0.174961                  0.156341   \n",
       "3        -0.116225      -0.023448    -0.075629                 -0.562893   \n",
       "4        -0.446125      -0.171773     0.233797                 -0.726600   \n",
       "...            ...            ...          ...                       ...   \n",
       "2639     -0.100393      -0.338048    -0.439796                  0.178491   \n",
       "2640     -0.293214       0.255635     0.258661                 -0.436502   \n",
       "2641     -0.452024      -0.540830    -0.496719                 -0.258014   \n",
       "2642     -0.213036       0.235084     0.687652                 -0.191689   \n",
       "2643      0.159311      -0.119584    -0.247166                  0.075766   \n",
       "\n",
       "      pressures    blocks  blocked_shots  interceptions  dribbles     fouls  \\\n",
       "0      0.097541  0.542926       0.671167      -0.023744  0.108168  0.648287   \n",
       "1      0.010521 -0.043804      -0.405623      -0.307665  0.510297 -0.117367   \n",
       "2      0.119204 -0.195756      -0.347636       0.046804  0.223204 -0.200123   \n",
       "3     -0.238756  0.176449      -0.536120      -0.062211 -0.718178 -0.566362   \n",
       "4     -0.475112 -0.422526       1.210110      -0.185696 -0.803115  0.035346   \n",
       "...         ...       ...            ...            ...       ...       ...   \n",
       "2639  -0.161277 -0.051176       0.009003      -0.658677  0.997938  1.845717   \n",
       "2640  -0.255346  0.106413       0.726093      -0.473244 -0.737625  0.027879   \n",
       "2641  -0.508799 -0.519697      -0.455514      -0.626585 -0.679492 -0.023801   \n",
       "2642  -0.272899  3.026152       3.016081      -0.658677 -0.610041 -0.174677   \n",
       "2643  -0.030105  0.457807      -0.070018       0.623524  1.968562 -0.260342   \n",
       "\n",
       "      goals_against_per90_gk     saves  clean_sheets  \n",
       "0                  -0.226008 -0.204311     -0.190185  \n",
       "1                  -0.226008 -0.204311     -0.190185  \n",
       "2                  -0.226008 -0.204311     -0.190185  \n",
       "3                  -0.226008 -0.204311     -0.190185  \n",
       "4                  -0.226008 -0.204311     -0.190185  \n",
       "...                      ...       ...           ...  \n",
       "2639               -0.226008 -0.204311     -0.190185  \n",
       "2640               -0.226008 -0.204311     -0.190185  \n",
       "2641               -0.226008 -0.204311     -0.190185  \n",
       "2642               -0.226008 -0.204311     -0.190185  \n",
       "2643               -0.226008 -0.204311     -0.190185  \n",
       "\n",
       "[2644 rows x 17 columns]"
      ]
     },
     "execution_count": 18,
     "metadata": {},
     "output_type": "execute_result"
    }
   ],
   "source": [
    "columns = data2.columns\n",
    "scaled = pd.DataFrame(StandardScaler().fit_transform(data2), columns=columns)\n",
    "scaled"
   ]
  },
  {
   "cell_type": "code",
   "execution_count": 19,
   "metadata": {
    "scrolled": true
   },
   "outputs": [
    {
     "data": {
      "text/plain": [
       "<matplotlib.axes._subplots.AxesSubplot at 0x25ee1f9a148>"
      ]
     },
     "execution_count": 19,
     "metadata": {},
     "output_type": "execute_result"
    },
    {
     "data": {
      "image/png": "[encoded data removed]",
      "text/plain": [
       "<Figure size 432x288 with 1 Axes>"
      ]
     },
     "metadata": {
      "needs_background": "light"
     },
     "output_type": "display_data"
    }
   ],
   "source": [
    "sns.boxplot(y='goals_per90', data=data2)"
   ]
  },
  {
   "cell_type": "code",
   "execution_count": 20,
   "metadata": {
    "scrolled": true
   },
   "outputs": [
    {
     "data": {
      "text/plain": [
       "<matplotlib.axes._subplots.AxesSubplot at 0x25ee1c6f388>"
      ]
     },
     "execution_count": 20,
     "metadata": {},
     "output_type": "execute_result"
    },
    {
     "data": {
      "image/png": "[encoded data removed]",
      "text/plain": [
       "<Figure size 432x288 with 1 Axes>"
      ]
     },
     "metadata": {
      "needs_background": "light"
     },
     "output_type": "display_data"
    }
   ],
   "source": [
    "sns.boxplot(y='passes_into_penalty_area', data=data2)"
   ]
  },
  {
   "cell_type": "code",
   "execution_count": 21,
   "metadata": {
    "scrolled": true
   },
   "outputs": [
    {
     "data": {
      "text/html": [
       "<div>\n",
       "<style scoped>\n",
       "    .dataframe tbody tr th:only-of-type {\n",
       "        vertical-align: middle;\n",
       "    }\n",
       "\n",
       "    .dataframe tbody tr th {\n",
       "        vertical-align: top;\n",
       "    }\n",
       "\n",
       "    .dataframe thead th {\n",
       "        text-align: right;\n",
       "    }\n",
       "</style>\n",
       "<table border=\"1\" class=\"dataframe\">\n",
       "  <thead>\n",
       "    <tr style=\"text-align: right;\">\n",
       "      <th></th>\n",
       "      <th>0</th>\n",
       "      <th>1</th>\n",
       "      <th>2</th>\n",
       "      <th>3</th>\n",
       "      <th>4</th>\n",
       "      <th>5</th>\n",
       "      <th>6</th>\n",
       "      <th>7</th>\n",
       "      <th>8</th>\n",
       "      <th>9</th>\n",
       "      <th>10</th>\n",
       "      <th>11</th>\n",
       "      <th>12</th>\n",
       "      <th>13</th>\n",
       "      <th>14</th>\n",
       "    </tr>\n",
       "  </thead>\n",
       "  <tbody>\n",
       "    <tr>\n",
       "      <th>0</th>\n",
       "      <td>1.116556</td>\n",
       "      <td>0.260124</td>\n",
       "      <td>-0.619637</td>\n",
       "      <td>0.384109</td>\n",
       "      <td>-0.610093</td>\n",
       "      <td>-0.208647</td>\n",
       "      <td>-0.397941</td>\n",
       "      <td>0.250983</td>\n",
       "      <td>0.029500</td>\n",
       "      <td>0.206988</td>\n",
       "      <td>-0.241555</td>\n",
       "      <td>0.361984</td>\n",
       "      <td>-0.017838</td>\n",
       "      <td>-0.001261</td>\n",
       "      <td>0.144261</td>\n",
       "    </tr>\n",
       "    <tr>\n",
       "      <th>1</th>\n",
       "      <td>-0.624794</td>\n",
       "      <td>-0.782193</td>\n",
       "      <td>0.062811</td>\n",
       "      <td>-0.484008</td>\n",
       "      <td>-0.446972</td>\n",
       "      <td>0.073768</td>\n",
       "      <td>0.174720</td>\n",
       "      <td>0.059673</td>\n",
       "      <td>0.483477</td>\n",
       "      <td>-0.022479</td>\n",
       "      <td>0.178631</td>\n",
       "      <td>-0.042722</td>\n",
       "      <td>0.192772</td>\n",
       "      <td>-0.306647</td>\n",
       "      <td>-0.113787</td>\n",
       "    </tr>\n",
       "    <tr>\n",
       "      <th>2</th>\n",
       "      <td>-0.177179</td>\n",
       "      <td>-0.103816</td>\n",
       "      <td>-0.278094</td>\n",
       "      <td>-0.622723</td>\n",
       "      <td>-0.342674</td>\n",
       "      <td>0.436470</td>\n",
       "      <td>0.051255</td>\n",
       "      <td>-0.415938</td>\n",
       "      <td>0.197972</td>\n",
       "      <td>0.487627</td>\n",
       "      <td>-0.054309</td>\n",
       "      <td>-0.100741</td>\n",
       "      <td>0.042908</td>\n",
       "      <td>0.185743</td>\n",
       "      <td>0.009887</td>\n",
       "    </tr>\n",
       "    <tr>\n",
       "      <th>3</th>\n",
       "      <td>-0.492292</td>\n",
       "      <td>0.150462</td>\n",
       "      <td>-0.867521</td>\n",
       "      <td>0.024712</td>\n",
       "      <td>0.182306</td>\n",
       "      <td>-0.515437</td>\n",
       "      <td>0.165915</td>\n",
       "      <td>-0.492962</td>\n",
       "      <td>-0.039425</td>\n",
       "      <td>0.249444</td>\n",
       "      <td>-0.056979</td>\n",
       "      <td>-0.552843</td>\n",
       "      <td>-0.122810</td>\n",
       "      <td>-0.329517</td>\n",
       "      <td>0.186968</td>\n",
       "    </tr>\n",
       "    <tr>\n",
       "      <th>4</th>\n",
       "      <td>-0.487532</td>\n",
       "      <td>0.356456</td>\n",
       "      <td>-1.586129</td>\n",
       "      <td>0.426121</td>\n",
       "      <td>0.298847</td>\n",
       "      <td>-0.428645</td>\n",
       "      <td>-0.509308</td>\n",
       "      <td>0.484975</td>\n",
       "      <td>0.048820</td>\n",
       "      <td>-0.155419</td>\n",
       "      <td>-0.144750</td>\n",
       "      <td>0.301283</td>\n",
       "      <td>-0.148059</td>\n",
       "      <td>0.581799</td>\n",
       "      <td>-0.334453</td>\n",
       "    </tr>\n",
       "    <tr>\n",
       "      <th>...</th>\n",
       "      <td>...</td>\n",
       "      <td>...</td>\n",
       "      <td>...</td>\n",
       "      <td>...</td>\n",
       "      <td>...</td>\n",
       "      <td>...</td>\n",
       "      <td>...</td>\n",
       "      <td>...</td>\n",
       "      <td>...</td>\n",
       "      <td>...</td>\n",
       "      <td>...</td>\n",
       "      <td>...</td>\n",
       "      <td>...</td>\n",
       "      <td>...</td>\n",
       "      <td>...</td>\n",
       "    </tr>\n",
       "    <tr>\n",
       "      <th>2639</th>\n",
       "      <td>-0.049961</td>\n",
       "      <td>-1.326700</td>\n",
       "      <td>0.484104</td>\n",
       "      <td>0.869559</td>\n",
       "      <td>-0.575631</td>\n",
       "      <td>1.895773</td>\n",
       "      <td>0.085751</td>\n",
       "      <td>0.365022</td>\n",
       "      <td>-0.417280</td>\n",
       "      <td>-0.163919</td>\n",
       "      <td>-0.164775</td>\n",
       "      <td>0.915243</td>\n",
       "      <td>-0.088749</td>\n",
       "      <td>0.098314</td>\n",
       "      <td>0.092101</td>\n",
       "    </tr>\n",
       "    <tr>\n",
       "      <th>2640</th>\n",
       "      <td>-0.089109</td>\n",
       "      <td>0.255015</td>\n",
       "      <td>-1.148697</td>\n",
       "      <td>0.450304</td>\n",
       "      <td>0.245737</td>\n",
       "      <td>-0.404000</td>\n",
       "      <td>-0.432895</td>\n",
       "      <td>0.207831</td>\n",
       "      <td>-0.159286</td>\n",
       "      <td>-0.266859</td>\n",
       "      <td>-0.248876</td>\n",
       "      <td>0.127242</td>\n",
       "      <td>-0.018562</td>\n",
       "      <td>0.230719</td>\n",
       "      <td>0.200300</td>\n",
       "    </tr>\n",
       "    <tr>\n",
       "      <th>2641</th>\n",
       "      <td>-1.357800</td>\n",
       "      <td>-0.492713</td>\n",
       "      <td>-0.504032</td>\n",
       "      <td>-0.310459</td>\n",
       "      <td>0.146217</td>\n",
       "      <td>0.628276</td>\n",
       "      <td>-0.078797</td>\n",
       "      <td>-0.055831</td>\n",
       "      <td>-0.523617</td>\n",
       "      <td>0.121026</td>\n",
       "      <td>-0.180131</td>\n",
       "      <td>-0.164686</td>\n",
       "      <td>-0.263619</td>\n",
       "      <td>0.055061</td>\n",
       "      <td>0.180738</td>\n",
       "    </tr>\n",
       "    <tr>\n",
       "      <th>2642</th>\n",
       "      <td>1.937976</td>\n",
       "      <td>1.074517</td>\n",
       "      <td>-2.433485</td>\n",
       "      <td>2.083885</td>\n",
       "      <td>0.445812</td>\n",
       "      <td>-1.554573</td>\n",
       "      <td>-1.778095</td>\n",
       "      <td>0.690855</td>\n",
       "      <td>1.801689</td>\n",
       "      <td>-1.093846</td>\n",
       "      <td>-0.221616</td>\n",
       "      <td>0.608603</td>\n",
       "      <td>-0.928794</td>\n",
       "      <td>-0.609552</td>\n",
       "      <td>1.401957</td>\n",
       "    </tr>\n",
       "    <tr>\n",
       "      <th>2643</th>\n",
       "      <td>0.620785</td>\n",
       "      <td>-0.406272</td>\n",
       "      <td>0.170044</td>\n",
       "      <td>-0.338765</td>\n",
       "      <td>-0.444726</td>\n",
       "      <td>0.528976</td>\n",
       "      <td>0.551440</td>\n",
       "      <td>-0.690684</td>\n",
       "      <td>1.468569</td>\n",
       "      <td>0.649415</td>\n",
       "      <td>0.107739</td>\n",
       "      <td>0.827787</td>\n",
       "      <td>0.125902</td>\n",
       "      <td>-0.157860</td>\n",
       "      <td>-0.133755</td>\n",
       "    </tr>\n",
       "  </tbody>\n",
       "</table>\n",
       "<p>2644 rows × 15 columns</p>\n",
       "</div>"
      ],
      "text/plain": [
       "             0         1         2         3         4         5         6  \\\n",
       "0     1.116556  0.260124 -0.619637  0.384109 -0.610093 -0.208647 -0.397941   \n",
       "1    -0.624794 -0.782193  0.062811 -0.484008 -0.446972  0.073768  0.174720   \n",
       "2    -0.177179 -0.103816 -0.278094 -0.622723 -0.342674  0.436470  0.051255   \n",
       "3    -0.492292  0.150462 -0.867521  0.024712  0.182306 -0.515437  0.165915   \n",
       "4    -0.487532  0.356456 -1.586129  0.426121  0.298847 -0.428645 -0.509308   \n",
       "...        ...       ...       ...       ...       ...       ...       ...   \n",
       "2639 -0.049961 -1.326700  0.484104  0.869559 -0.575631  1.895773  0.085751   \n",
       "2640 -0.089109  0.255015 -1.148697  0.450304  0.245737 -0.404000 -0.432895   \n",
       "2641 -1.357800 -0.492713 -0.504032 -0.310459  0.146217  0.628276 -0.078797   \n",
       "2642  1.937976  1.074517 -2.433485  2.083885  0.445812 -1.554573 -1.778095   \n",
       "2643  0.620785 -0.406272  0.170044 -0.338765 -0.444726  0.528976  0.551440   \n",
       "\n",
       "             7         8         9        10        11        12        13  \\\n",
       "0     0.250983  0.029500  0.206988 -0.241555  0.361984 -0.017838 -0.001261   \n",
       "1     0.059673  0.483477 -0.022479  0.178631 -0.042722  0.192772 -0.306647   \n",
       "2    -0.415938  0.197972  0.487627 -0.054309 -0.100741  0.042908  0.185743   \n",
       "3    -0.492962 -0.039425  0.249444 -0.056979 -0.552843 -0.122810 -0.329517   \n",
       "4     0.484975  0.048820 -0.155419 -0.144750  0.301283 -0.148059  0.581799   \n",
       "...        ...       ...       ...       ...       ...       ...       ...   \n",
       "2639  0.365022 -0.417280 -0.163919 -0.164775  0.915243 -0.088749  0.098314   \n",
       "2640  0.207831 -0.159286 -0.266859 -0.248876  0.127242 -0.018562  0.230719   \n",
       "2641 -0.055831 -0.523617  0.121026 -0.180131 -0.164686 -0.263619  0.055061   \n",
       "2642  0.690855  1.801689 -1.093846 -0.221616  0.608603 -0.928794 -0.609552   \n",
       "2643 -0.690684  1.468569  0.649415  0.107739  0.827787  0.125902 -0.157860   \n",
       "\n",
       "            14  \n",
       "0     0.144261  \n",
       "1    -0.113787  \n",
       "2     0.009887  \n",
       "3     0.186968  \n",
       "4    -0.334453  \n",
       "...        ...  \n",
       "2639  0.092101  \n",
       "2640  0.200300  \n",
       "2641  0.180738  \n",
       "2642  1.401957  \n",
       "2643 -0.133755  \n",
       "\n",
       "[2644 rows x 15 columns]"
      ]
     },
     "execution_count": 21,
     "metadata": {},
     "output_type": "execute_result"
    }
   ],
   "source": [
    "from sklearn.decomposition import PCA\n",
    "X = scaled\n",
    "Y = data['position2']\n",
    "np.nan_to_num(X)\n",
    "pca = PCA(n_components=0.95)\n",
    "pca.fit(X)\n",
    "X_PCA = pca.transform(X)\n",
    "X_PCA = pd.DataFrame(X_PCA)\n",
    "X_PCA"
   ]
  },
  {
   "cell_type": "code",
   "execution_count": 22,
   "metadata": {
    "scrolled": true
   },
   "outputs": [],
   "source": [
    "import sklearn.model_selection as model_selection\n",
    "from sklearn.metrics import accuracy_score\n",
    "from sklearn.metrics import f1_score\n",
    "from sklearn.metrics import confusion_matrix\n",
    "from collections import namedtuple"
   ]
  },
  {
   "cell_type": "code",
   "execution_count": 23,
   "metadata": {
    "scrolled": true
   },
   "outputs": [],
   "source": [
    "def print_bold(text):\n",
    "    print('\\033[1m' + text + '\\033[0m\\n')\n",
    "    \n",
    "def plot_confusion_matrix(matrix, description):\n",
    "    ax = sns.heatmap(matrix, annot=True, fmt=\"d\",cmap='Blues')\n",
    "\n",
    "    ax.set_title(description);\n",
    "    ax.set_xlabel('\\nPredicted Values')\n",
    "    ax.set_ylabel('Actual Values ');\n",
    "    ax.xaxis.set_ticklabels(['0','1','2','3'])\n",
    "    ax.yaxis.set_ticklabels(['0','1','2','3'])\n",
    "    plt.show()\n",
    "    \n",
    "def create_and_plot_confusion_matrix(y, pred, name):\n",
    "    matrix = confusion_matrix(y, pred)\n",
    "    plot_confusion_matrix(matrix, 'Confusion Matrix for %s\\n' %(name))\n",
    "    \n",
    "def print_score(y, pred, data_name, classifier_name):\n",
    "    accuracy = accuracy_score(y, pred)\n",
    "    f1 = f1_score(y, pred, average='weighted')\n",
    "    print(\"Dane %s:\" %(data_name))\n",
    "    print(\"Klasyfikator: %s\" %(classifier_name))\n",
    "    print('Accuracy: %.2f' %(accuracy*100))\n",
    "    print('F1: %.2f' % (f1*100))\n",
    "        \n",
    "def test_classifier_with_test_data(classifier, x_data, y_data):\n",
    "    name = classifier.name\n",
    "    prediction = classifier.classifier.predict(x_data)\n",
    "    print_score(y_data, prediction, \"testowe\", name)\n",
    "    create_and_plot_confusion_matrix(y_data, prediction, name)\n",
    "    \n",
    "def test_classifier_with_training_data(classifier, x_data,y_data):\n",
    "    prediction_train = classifier.classifier.predict(x_data)\n",
    "    print_score(y_data, prediction_train, \"treningowe\", classifier.name)\n",
    "    \n",
    "def test_classifier(classifier, train_x, train_y, test_x, test_y):\n",
    "    print_bold(\"\\n\\n\" + classifier.name)\n",
    "    classifier.classifier.fit(train_x, train_y)\n",
    "    test_classifier_with_test_data(classifier, test_x, test_y)\n",
    "    test_classifier_with_training_data(classifier, train_x, train_y)\n",
    "    \n",
    "def test_and_return_score(classifier, train_x, train_y, test_x, test_y):\n",
    "    classifier.classifier.fit(train_x, train_y)\n",
    "    prediction = classifier.classifier.predict(test_x)\n",
    "    accuracy = accuracy_score(test_y, prediction)\n",
    "    f1 = f1_score(test_y, prediction, average='weighted')\n",
    "    return (accuracy, f1)"
   ]
  },
  {
   "cell_type": "code",
   "execution_count": 24,
   "metadata": {
    "scrolled": true
   },
   "outputs": [],
   "source": [
    "Classifier = namedtuple(\"Classifier\", [\"classifier\", \"name\"])\n",
    "X_train, X_test, y_train, y_test = model_selection.train_test_split(X_PCA, Y, train_size=0.80, test_size=0.20, random_state=101)"
   ]
  },
  {
   "cell_type": "code",
   "execution_count": 25,
   "metadata": {
    "scrolled": true
   },
   "outputs": [],
   "source": [
    "from sklearn.svm import SVC\n",
    "from sklearn.ensemble import RandomForestClassifier\n",
    "from sklearn.linear_model import LogisticRegression\n",
    "from sklearn.tree import DecisionTreeClassifier \n",
    "\n",
    "def create_classifiers():\n",
    "    svc_poly_classifier = SVC(kernel='poly', degree=3, C=1) #polynomial kernel\n",
    "    svc_poly = Classifier(svc_poly_classifier, \"SVM Classifier with polynominal kernel\")\n",
    "\n",
    "    random_forest_classifier = RandomForestClassifier(max_depth=7, n_estimators=12, max_features=1)\n",
    "    random_forest = Classifier(random_forest_classifier, \"Random Forest Classifier\")\n",
    "\n",
    "    logisitic_regression_classifier = LogisticRegression(max_iter=1000)\n",
    "    logisitic_regression = Classifier(logisitic_regression_classifier, \"Logistic Regression Classifier\")\n",
    "\n",
    "    decision_tree_classifier = DecisionTreeClassifier()\n",
    "    decision_tree = Classifier(decision_tree_classifier, \"Decision Tree Classifier\")\n",
    "    return [svc_poly, random_forest, logisitic_regression, decision_tree]"
   ]
  },
  {
   "cell_type": "code",
   "execution_count": 26,
   "metadata": {
    "scrolled": false
   },
   "outputs": [
    {
     "name": "stdout",
     "output_type": "stream",
     "text": [
      "\u001b[1m\n",
      "\n",
      "SVM Classifier with polynominal kernel\u001b[0m\n",
      "\n",
      "Dane testowe:\n",
      "Klasyfikator: SVM Classifier with polynominal kernel\n",
      "Accuracy: 49.34\n",
      "F1: 40.84\n"
     ]
    },
    {
     "data": {
      "image/png": "[encoded data removed]",
      "text/plain": [
       "<Figure size 432x288 with 2 Axes>"
      ]
     },
     "metadata": {
      "needs_background": "light"
     },
     "output_type": "display_data"
    },
    {
     "name": "stdout",
     "output_type": "stream",
     "text": [
      "Dane treningowe:\n",
      "Klasyfikator: SVM Classifier with polynominal kernel\n",
      "Accuracy: 58.25\n",
      "F1: 51.17\n",
      "\u001b[1m\n",
      "\n",
      "Random Forest Classifier\u001b[0m\n",
      "\n",
      "Dane testowe:\n",
      "Klasyfikator: Random Forest Classifier\n",
      "Accuracy: 65.41\n",
      "F1: 63.57\n"
     ]
    },
    {
     "data": {
      "image/png": "[encoded data removed]",
      "text/plain": [
       "<Figure size 432x288 with 2 Axes>"
      ]
     },
     "metadata": {
      "needs_background": "light"
     },
     "output_type": "display_data"
    },
    {
     "name": "stdout",
     "output_type": "stream",
     "text": [
      "Dane treningowe:\n",
      "Klasyfikator: Random Forest Classifier\n",
      "Accuracy: 76.22\n",
      "F1: 75.27\n",
      "\u001b[1m\n",
      "\n",
      "Logistic Regression Classifier\u001b[0m\n",
      "\n",
      "Dane testowe:\n",
      "Klasyfikator: Logistic Regression Classifier\n",
      "Accuracy: 69.19\n",
      "F1: 67.69\n"
     ]
    },
    {
     "data": {
      "image/png": "[encoded data removed]",
      "text/plain": [
       "<Figure size 432x288 with 2 Axes>"
      ]
     },
     "metadata": {
      "needs_background": "light"
     },
     "output_type": "display_data"
    },
    {
     "name": "stdout",
     "output_type": "stream",
     "text": [
      "Dane treningowe:\n",
      "Klasyfikator: Logistic Regression Classifier\n",
      "Accuracy: 67.38\n",
      "F1: 65.71\n",
      "\u001b[1m\n",
      "\n",
      "Decision Tree Classifier\u001b[0m\n",
      "\n",
      "Dane testowe:\n",
      "Klasyfikator: Decision Tree Classifier\n",
      "Accuracy: 65.60\n",
      "F1: 65.53\n"
     ]
    },
    {
     "data": {
      "image/png": "[encoded data removed]",
      "text/plain": [
       "<Figure size 432x288 with 2 Axes>"
      ]
     },
     "metadata": {
      "needs_background": "light"
     },
     "output_type": "display_data"
    },
    {
     "name": "stdout",
     "output_type": "stream",
     "text": [
      "Dane treningowe:\n",
      "Klasyfikator: Decision Tree Classifier\n",
      "Accuracy: 99.95\n",
      "F1: 99.95\n"
     ]
    }
   ],
   "source": [
    "classifiers = create_classifiers()\n",
    "\n",
    "for classifier in classifiers:\n",
    "    test_classifier(classifier, X_train, y_train, X_test, y_test)"
   ]
  },
  {
   "cell_type": "code",
   "execution_count": 27,
   "metadata": {
    "scrolled": false
   },
   "outputs": [
    {
     "name": "stdout",
     "output_type": "stream",
     "text": [
      "0 SVM Classifier with polynominal kernel 0.5358490566037736 0.4462104463863927\n",
      "0 Random Forest Classifier 0.7358490566037735 0.7245850671388409\n",
      "0 Logistic Regression Classifier 0.6641509433962264 0.6507303537663949\n",
      "0 Decision Tree Classifier 0.6188679245283019 0.6151733664833944\n",
      "1 SVM Classifier with polynominal kernel 0.539622641509434 0.4549684387083987\n",
      "1 Random Forest Classifier 0.6679245283018868 0.643975831601321\n",
      "1 Logistic Regression Classifier 0.660377358490566 0.63231613400077\n",
      "1 Decision Tree Classifier 0.6226415094339622 0.6213768971135186\n",
      "2 SVM Classifier with polynominal kernel 0.49433962264150944 0.41185655038976976\n",
      "2 Random Forest Classifier 0.6792452830188679 0.667156899149228\n",
      "2 Logistic Regression Classifier 0.6792452830188679 0.6652487450147867\n",
      "2 Decision Tree Classifier 0.6226415094339622 0.6189190263838883\n",
      "3 SVM Classifier with polynominal kernel 0.5245283018867924 0.45578932982604276\n",
      "3 Random Forest Classifier 0.7132075471698113 0.697144974794634\n",
      "3 Logistic Regression Classifier 0.6754716981132075 0.6649357856350087\n",
      "3 Decision Tree Classifier 0.5924528301886792 0.591387587782192\n",
      "4 SVM Classifier with polynominal kernel 0.5227272727272727 0.4514362757245912\n",
      "4 Random Forest Classifier 0.7045454545454546 0.6925383567713772\n",
      "4 Logistic Regression Classifier 0.6742424242424242 0.6587052341597796\n",
      "4 Decision Tree Classifier 0.6515151515151515 0.650504135053277\n",
      "5 SVM Classifier with polynominal kernel 0.5984848484848485 0.5338775249627962\n",
      "5 Random Forest Classifier 0.7386363636363636 0.7328505036955743\n",
      "5 Logistic Regression Classifier 0.6477272727272727 0.637432440741436\n",
      "5 Decision Tree Classifier 0.5946969696969697 0.5964560252759183\n",
      "6 SVM Classifier with polynominal kernel 0.48484848484848486 0.38754609587942923\n",
      "6 Random Forest Classifier 0.678030303030303 0.6634306480591685\n",
      "6 Logistic Regression Classifier 0.6931818181818182 0.6811474602076322\n",
      "6 Decision Tree Classifier 0.571969696969697 0.5720995254793397\n",
      "7 SVM Classifier with polynominal kernel 0.5227272727272727 0.4434290580901783\n",
      "7 Random Forest Classifier 0.7121212121212122 0.7038765352443836\n",
      "7 Logistic Regression Classifier 0.7121212121212122 0.6981429847889581\n",
      "7 Decision Tree Classifier 0.6553030303030303 0.6580157655831762\n",
      "8 SVM Classifier with polynominal kernel 0.5189393939393939 0.4386315125345792\n",
      "8 Random Forest Classifier 0.6856060606060606 0.67265013695519\n",
      "8 Logistic Regression Classifier 0.6856060606060606 0.67590597305355\n",
      "8 Decision Tree Classifier 0.6363636363636364 0.635051191149123\n",
      "9 SVM Classifier with polynominal kernel 0.5037878787878788 0.41120968566042987\n",
      "9 Random Forest Classifier 0.7007575757575758 0.6946333394874311\n",
      "9 Logistic Regression Classifier 0.6818181818181818 0.6665287828859568\n",
      "9 Decision Tree Classifier 0.6325757575757576 0.633335434652962\n"
     ]
    }
   ],
   "source": [
    "from sklearn.model_selection import StratifiedKFold\n",
    "accuracy_results = []\n",
    "f1_results = []\n",
    "skf = StratifiedKFold(n_splits=10)\n",
    "skf.get_n_splits(X, Y)\n",
    "i = 0\n",
    "for train_index, test_index in skf.split(X, Y):\n",
    "    acc_res = []\n",
    "    f1_res = []\n",
    "    skf_X_train, skf_X_test = X.iloc[train_index], X.iloc[test_index]\n",
    "    skf_y_train, skf_y_test = Y.iloc[train_index], Y.iloc[test_index]\n",
    "    \n",
    "    classifiers = create_classifiers()\n",
    "    for classifier in classifiers:\n",
    "        accuracy, f1 = test_and_return_score(classifier, skf_X_train, skf_y_train, skf_X_test, skf_y_test)\n",
    "        print(i, classifier.name, accuracy, f1)\n",
    "        acc_res.append(accuracy)\n",
    "        f1_res.append(f1)\n",
    "    accuracy_results.append(acc_res)\n",
    "    f1_results.append(f1_res)\n",
    "    i += 1"
   ]
  },
  {
   "cell_type": "code",
   "execution_count": 28,
   "metadata": {},
   "outputs": [],
   "source": [
    "accuracy_results = np.array(accuracy_results)\n",
    "f1_results = np.array(f1_results)\n",
    "means_accuracy = np.mean(accuracy_results, axis=0)\n",
    "sd_accuracy = np.std(f1_results, axis=0)\n",
    "means_f1 = np.mean(f1_results, axis=0)\n",
    "sd_f1 = np.std(f1_results, axis=0)"
   ]
  },
  {
   "cell_type": "code",
   "execution_count": 29,
   "metadata": {},
   "outputs": [
    {
     "name": "stdout",
     "output_type": "stream",
     "text": [
      "SVM Classifier with polynominal kernel\n",
      "means accuracy 0.5245854774156661\n",
      "standard deviation accuracy 0.03703984262089734\n",
      "mean f1 0.44349549181626086\n",
      "standard deviation f1 0.03703984262089734 \n",
      "\n",
      "Random Forest Classifier\n",
      "means accuracy 0.7015923384791309\n",
      "standard deviation accuracy 0.02635463675991878\n",
      "mean f1 0.6892842292897148\n",
      "standard deviation f1 0.02635463675991878 \n",
      "\n",
      "Logistic Regression Classifier\n",
      "means accuracy 0.6773942252715838\n",
      "standard deviation accuracy 0.01875166539830802\n",
      "mean f1 0.6631093894254272\n",
      "standard deviation f1 0.01875166539830802 \n",
      "\n",
      "Decision Tree Classifier\n",
      "means accuracy 0.6199028016009149\n",
      "standard deviation accuracy 0.025432219907190162\n",
      "mean f1 0.6192318954956789\n",
      "standard deviation f1 0.025432219907190162 \n",
      "\n"
     ]
    }
   ],
   "source": [
    "for i in range(len(classifiers)):\n",
    "    print(classifiers[i].name)\n",
    "    print(\"means accuracy\", means_accuracy[i])\n",
    "    print(\"standard deviation accuracy\", sd_accuracy[i])\n",
    "    print(\"mean f1\", means_f1[i])\n",
    "    print(\"standard deviation f1\", sd_f1[i], \"\\n\")"
   ]
  },
  {
   "cell_type": "code",
   "execution_count": 30,
   "metadata": {},
   "outputs": [
    {
     "name": "stdout",
     "output_type": "stream",
     "text": [
      "[1 3 1 ... 2 1 2]\n",
      "[1 3 2 ... 2 1 2]\n",
      "[1 3 2 ... 2 1 2]\n",
      "(2115, 12)\n"
     ]
    }
   ],
   "source": [
    "from sklearn.ensemble import VotingClassifier\n",
    "svc_poly_classifier = SVC(kernel='poly', degree=3, C=1) #polynomial kernel\n",
    "random_forest_classifier = RandomForestClassifier(max_depth=7, n_estimators=12, max_features=1)\n",
    "logisitic_regression_classifier = LogisticRegression(max_iter=1000)\n",
    "decision_tree_classifier = DecisionTreeClassifier()\n",
    "\n",
    "eclf1 = VotingClassifier(estimators=[('lr', logisitic_regression_classifier), ('rf', random_forest_classifier), ('dt', decision_tree_classifier)], voting='hard')\n",
    "eclf1 = eclf1.fit(X_train, y_train)\n",
    "print(eclf1.predict(X_train))\n",
    "np.array_equal(eclf1.named_estimators_.lr.predict(X_train), eclf1.named_estimators_['lr'].predict(X_train))\n",
    "eclf2 = VotingClassifier(estimators=[('lr', logisitic_regression_classifier), ('rf', random_forest_classifier), ('dt', decision_tree_classifier)], voting='soft')\n",
    "eclf2 = eclf2.fit(X_train, y_train)\n",
    "print(eclf2.predict(X_train))\n",
    "eclf3 = VotingClassifier(estimators=[('lr', logisitic_regression_classifier), ('rf', random_forest_classifier), ('dt', decision_tree_classifier)], voting='soft', weights=[2,1,1], flatten_transform=True)\n",
    "eclf3 = eclf3.fit(X_train, y_train)\n",
    "print(eclf3.predict(X_train))\n",
    "print(eclf3.transform(X_train).shape)"
   ]
  },
  {
   "cell_type": "code",
   "execution_count": 31,
   "metadata": {},
   "outputs": [
    {
     "name": "stdout",
     "output_type": "stream",
     "text": [
      "Dane Testowe:\n",
      "Klasyfikator: Voting Classifier - Logistic Regression & Random Forest & Decision Tree, voting - hard\n",
      "Accuracy: 67.49\n",
      "F1: 65.83\n"
     ]
    }
   ],
   "source": [
    "eclf1_predict = eclf1.predict(X_test)\n",
    "print_score(y_test, eclf1_predict, \"Testowe\",\n",
    "            \"Voting Classifier - Logistic Regression & Random Forest & Decision Tree, voting - hard\")"
   ]
  },
  {
   "cell_type": "code",
   "execution_count": 32,
   "metadata": {},
   "outputs": [
    {
     "name": "stdout",
     "output_type": "stream",
     "text": [
      "Dane Testowe:\n",
      "Klasyfikator: Voting Classifier - Logistic Regression & Random Forest & Decision Tree, voting - soft\n",
      "Accuracy: 66.92\n",
      "F1: 66.64\n"
     ]
    }
   ],
   "source": [
    "eclf2_predict = eclf2.predict(X_test)\n",
    "print_score(y_test, eclf2_predict, \"Testowe\",\n",
    "            \"Voting Classifier - Logistic Regression & Random Forest & Decision Tree, voting - soft\")"
   ]
  },
  {
   "cell_type": "code",
   "execution_count": 33,
   "metadata": {},
   "outputs": [
    {
     "name": "stdout",
     "output_type": "stream",
     "text": [
      "Dane Testowe:\n",
      "Klasyfikator: Voting Classifier - Logistic Regression & Random Forest & Decision Tree, voting - soft, weights: [2,1,1]\n",
      "Accuracy: 69.00\n",
      "F1: 68.60\n"
     ]
    }
   ],
   "source": [
    "eclf3_predict = eclf3.predict(X_test)\n",
    "print_score(y_test, eclf3_predict, \"Testowe\",\n",
    "            \"Voting Classifier - Logistic Regression & Random Forest & Decision Tree, voting - soft, weights: [2,1,1]\")"
   ]
  },
  {
   "cell_type": "code",
   "execution_count": 34,
   "metadata": {},
   "outputs": [
    {
     "name": "stdout",
     "output_type": "stream",
     "text": [
      "Grid search for random forest\n",
      "Accuracy Score : 0.7051039697542533\n"
     ]
    }
   ],
   "source": [
    "from sklearn.model_selection import GridSearchCV\n",
    "\n",
    "random_forest_parameters = {'max_depth':[3,5,7,10], 'n_estimators':[3,5,7,10,50,100], 'min_samples_split': [2, 5, 10],\n",
    "              'max_features': [1,2,3]}\n",
    "\n",
    "random_forest_base_estimator = RandomForestClassifier(random_state=0)\n",
    "\n",
    "random_forest_grid = GridSearchCV(random_forest_base_estimator, random_forest_parameters, scoring = 'accuracy')\n",
    "random_forest_grid.fit(X_train, y_train)\n",
    "random_forest_grid_predicitions = random_forest_grid.predict(X_test)\n",
    "\n",
    "print(\"Grid search for random forest\")\n",
    "print('Accuracy Score : ' + str(accuracy_score(y_test, random_forest_grid_predicitions)))"
   ]
  },
  {
   "cell_type": "code",
   "execution_count": 35,
   "metadata": {},
   "outputs": [
    {
     "data": {
      "text/plain": [
       "{'max_depth': 10,\n",
       " 'max_features': 2,\n",
       " 'min_samples_split': 5,\n",
       " 'n_estimators': 100}"
      ]
     },
     "execution_count": 35,
     "metadata": {},
     "output_type": "execute_result"
    }
   ],
   "source": [
    "random_forest_grid.best_params_"
   ]
  },
  {
   "cell_type": "code",
   "execution_count": 36,
   "metadata": {},
   "outputs": [
    {
     "data": {
      "image/png": "[encoded data removed]",
      "text/plain": [
       "<Figure size 432x288 with 2 Axes>"
      ]
     },
     "metadata": {
      "needs_background": "light"
     },
     "output_type": "display_data"
    }
   ],
   "source": [
    "create_and_plot_confusion_matrix(y_test, random_forest_grid_predicitions, \"random forest grid search\")"
   ]
  },
  {
   "cell_type": "code",
   "execution_count": 37,
   "metadata": {},
   "outputs": [
    {
     "name": "stdout",
     "output_type": "stream",
     "text": [
      "Grid search for svm\n",
      "Accuracy Score : 0.725897920604915\n"
     ]
    }
   ],
   "source": [
    "svc_parameters = {'kernel': ['linear', 'poly', 'rbf', 'sigmoid'], 'degree': [3,5,7], 'C':[0.001, 0.01, 0.1, 1, 2, 3, 10]}\n",
    "svc_base_estimator = SVC()\n",
    "\n",
    "svc_grid = GridSearchCV(svc_base_estimator, svc_parameters, scoring = 'accuracy')\n",
    "svc_grid.fit(X_train, y_train)\n",
    "svc_grid_predicitions = svc_grid.predict(X_test)\n",
    "\n",
    "print(\"Grid search for svm\")\n",
    "print('Accuracy Score : ' + str(accuracy_score(y_test, svc_grid_predicitions)))"
   ]
  },
  {
   "cell_type": "code",
   "execution_count": 38,
   "metadata": {},
   "outputs": [
    {
     "data": {
      "text/plain": [
       "{'C': 2, 'degree': 3, 'kernel': 'rbf'}"
      ]
     },
     "execution_count": 38,
     "metadata": {},
     "output_type": "execute_result"
    }
   ],
   "source": [
    "svc_grid.best_params_"
   ]
  },
  {
   "cell_type": "code",
   "execution_count": 39,
   "metadata": {},
   "outputs": [
    {
     "data": {
      "image/png": "[encoded data removed]",
      "text/plain": [
       "<Figure size 432x288 with 2 Axes>"
      ]
     },
     "metadata": {
      "needs_background": "light"
     },
     "output_type": "display_data"
    }
   ],
   "source": [
    "create_and_plot_confusion_matrix(y_test, svc_grid_predicitions, \"svm grid grid search\")"
   ]
  }
 ],
 "metadata": {
  "kernelspec": {
   "display_name": "Python 3",
   "language": "python",
   "name": "python3"
  },
  "language_info": {
   "codemirror_mode": {
    "name": "ipython",
    "version": 3
   },
   "file_extension": ".py",
   "mimetype": "text/x-python",
   "name": "python",
   "nbconvert_exporter": "python",
   "pygments_lexer": "ipython3",
   "version": "3.7.9"
  }
 },
 "nbformat": 4,
 "nbformat_minor": 4
}
